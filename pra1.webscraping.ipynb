{
 "cells": [
  {
   "cell_type": "markdown",
   "metadata": {},
   "source": [
    "<div style=\"width: 100%; clear: both;\">\n",
    "<div style=\"float: left; width: 50%;\">\n",
    "<img src=\"http://www.uoc.edu/portal/_resources/common/imatges/marca_UOC/UOC_Masterbrand.jpg\", align=\"left\">\n",
    "</div>\n",
    "<div style=\"float: right; width: 50%;\">\n",
    "<p style=\"margin: 0; padding-top: 22px; text-align:right;\"><b>Alumnes:</b> David Navarro Brugal, Antoni Llussà Sala</p>\n",
    "<p style=\"margin: 0; text-align:right;\"><b>Consultor:</b> Sergio Trilles Oliver</p>\n",
    "<p style=\"margin: 0; text-align:right;\">M2.951 · Tipologia i cicle de vida de les dades · PRA1</p>\n",
    "<p style=\"margin: 0; text-align:right;\">2019-2 · Màster universitari en Ciència de dades (Data science)</p>\n",
    "<p style=\"margin: 0; text-align:right; padding-button: 100px;\">Estudis de Informàtica, Multimèdia i Telecomunicació</p>\n",
    "</div>\n",
    "</div>\n",
    "<div style=\"width:100%;\">&nbsp;</div>\n",
    "\n",
    "\n",
    "# PRÀCTICA 1: Web scraping\n",
    "\n",
    "## Codi per generar el dataset:"
   ]
  },
  {
   "cell_type": "markdown",
   "metadata": {},
   "source": [
    "### Imports:"
   ]
  },
  {
   "cell_type": "code",
   "execution_count": 41,
   "metadata": {},
   "outputs": [],
   "source": [
    "import requests\n",
    "from urllib.parse import urlparse\n",
    "import urllib\n",
    "from bs4 import BeautifulSoup\n",
    "import pandas as pd\n",
    "import numpy as np\n",
    "import json\n",
    "import datetime\n",
    "import time\n",
    "import csv\n",
    "import whois\n",
    "import pathlib"
   ]
  },
  {
   "cell_type": "markdown",
   "metadata": {},
   "source": [
    "### Classe Throttle:"
   ]
  },
  {
   "cell_type": "code",
   "execution_count": 42,
   "metadata": {},
   "outputs": [],
   "source": [
    "#llibre Web Scraping with Python\n",
    "class Throttle: \n",
    "    \"\"\"Add a delay between downloads to the same domain \n",
    "    \"\"\" \n",
    "    def __init__(self, delay): \n",
    "        # amount of delay between downloads for each domain \n",
    "        self.delay = delay \n",
    "        # timestamp of when a domain was last accessed \n",
    "        self.domains = {} \n",
    "\n",
    "    def wait(self, url): \n",
    "        domain = urlparse(url).netloc \n",
    "        last_accessed = self.domains.get(domain) \n",
    "\n",
    "        if self.delay > 0 and last_accessed is not None: \n",
    "            sleep_secs = self.delay - (time.time() - last_accessed) \n",
    "            if sleep_secs > 0: \n",
    "                # domain has been accessed recently \n",
    "                # so need to sleep \n",
    "                time.sleep(sleep_secs) \n",
    "        # update the last accessed time \n",
    "        self.domains[domain] = time.time() "
   ]
  },
  {
   "cell_type": "markdown",
   "metadata": {},
   "source": [
    "### Definició de funcions:"
   ]
  },
  {
   "cell_type": "code",
   "execution_count": 43,
   "metadata": {},
   "outputs": [],
   "source": [
    "#Funció per fer les descàrregues dels enllaços, amb user agent i amb un control d'errors\n",
    "#llibre Web Scraping with Python\n",
    "def download(url, user_agent='wswp', num_retries=2): \n",
    "    print('Downloading:', url) \n",
    "    request = urllib.request.Request(url) \n",
    "    request.add_header('User-agent', user_agent)\n",
    "    try: \n",
    "        html = urllib.request.urlopen(request).read() \n",
    "    except (URLError, HTTPError, ContentTooShortError) as e:\n",
    "        print('Download error:', e.reason)\n",
    "        html = None \n",
    "        if num_retries > 0: \n",
    "            if hasattr(e, 'code') and 500 <= e.code < 600: \n",
    "                # recursively retry 5xx HTTP errors \n",
    "                return download(url, num_retries - 1) \n",
    "    return html\n",
    "\n",
    "#Funció per fer la descarrega dels robots.txt\n",
    "#retorna el contingut dels robots.txt\n",
    "def downloadRobots(base_url):\n",
    "    throttle = Throttle(delay) \n",
    "    throttle.wait(base_url) \n",
    "    return download(base_url+\"/robots.txt\")\n",
    "\n",
    "#Funció per fer la descarrega d'una url / pàgina\n",
    "#retorna el contingut de la pàgina\n",
    "def downloadPage(page):\n",
    "    throttle = Throttle(delay) \n",
    "    throttle.wait(page) \n",
    "    return download(page)   \n",
    "\n",
    "#Funció per obtenir els enllaços de totes les pàgines on hi ha els videojocs\n",
    "#retorna un llistat d'enllaços\n",
    "def getPages(html, base_url):\n",
    "    div = html.find('div',{\"id\":\"pagination\"})\n",
    "    links = div.findAll('a')\n",
    "    linkPages = []\n",
    "    for link in links :\n",
    "        linkPages.append(base_url+link.get(\"href\"))\n",
    "\n",
    "    return linkPages\n",
    "\n",
    "#Funció per obtenir els enllaços de les pàgines de detall dels videojocs\n",
    "#retorna un llistat d'enllaços de les pàgines del detall amb la url completa segons el base_url\n",
    "def getLinkGames(html,base_url):\n",
    "    divs = html.findAll('div',{\"class\":\"list-item-title\"})\n",
    "    linkGames = []\n",
    "    for div in divs :\n",
    "        linkGames.append(base_url+div.a.get(\"href\"))\n",
    "    return np.unique(linkGames)\n",
    "\n",
    "#Funció per obtenir el soup de la url del videojoc\n",
    "def getHtmlGame(urlGame):\n",
    "    reqGame = requests.get(urlGame)\n",
    "    htmlGame = BeautifulSoup(reqGame.text, \"html5lib\")\n",
    "    return htmlGame\n",
    "\n",
    "#Funció per obtenir el contingut d'strongs de la classe quote\n",
    "def getQuoteStrongs(soup):\n",
    "    p = soup.find('p',{\"class\":\"quote\"})\n",
    "    strongsOut = []\n",
    "    dict = {}\n",
    "    if(p):\n",
    "        strongs = p.findAll('strong')\n",
    "        for strong in strongs :\n",
    "            title = strong.text\n",
    "            html= \"\"\n",
    "            if \"Rating\" in title:\n",
    "                for tag in strong.next_siblings:\n",
    "                    if tag.name == \"strong\":\n",
    "                        break\n",
    "                    else:\n",
    "                        html = str(tag).replace(\"<br/>\",\"\")\n",
    "                        listRating = html.split(':')\n",
    "                        if(len(listRating) == 2):\n",
    "                            dict[\"Ratings-\"+listRating[0].strip()] = listRating[1].strip()\n",
    "            else:\n",
    "                html = strong.next_sibling.next_sibling\n",
    "                if(title.count(\"Total\") > 0):\n",
    "                    dict[\"Ratings-Total\"] = str(title).replace(\"Total\",\"\").replace(\":\",\"\").strip()\n",
    "                elif(title.count(\"Overall\") > 0):\n",
    "                    dict[\"Ratings-Total\"] = str(title).replace(\"Overall:\",\"\").replace(\":\",\"\").strip()\n",
    "                else:\n",
    "                    dict[title] = str(html).strip()\n",
    "    return dict\n",
    "\n",
    "#Funció per obtenir els attributs importants: del costat de la imatge principal\n",
    "def getImportantAttributes(soup):\n",
    "    div = soup.find('div',{\"id\":\"important\"})\n",
    "    dict = {}\n",
    "    h1 = div.find('h1')\n",
    "    dict[\"title\"] = h1.text\n",
    "    h3List = div.findAll('h3')\n",
    "    h4List = div.findAll('h4')\n",
    "    idDate = 0;\n",
    "    for h3 in h3List :\n",
    "        name =h3.get(\"class\")[0]\n",
    "        if h3.text:\n",
    "            dict[name]=h3.text.replace('\\t','').replace('\\n','')\n",
    "    for h4 in h4List :\n",
    "        name =h4.get(\"class\")[0]\n",
    "        if h4.text:\n",
    "            if(name == \"date\"): #com que el genre també te la classe date, s'ha de controlar per etiquetar-ho correctament\n",
    "                idDate +=1;\n",
    "            if(idDate > 1):\n",
    "                name= \"genre\"\n",
    "            dict[name] = h4.text.replace('\\t','').replace('\\n','')\n",
    "    return dict\n",
    "            \n",
    "\n",
    "#Funció per obtenir la descripció i referència\n",
    "def getDescriptionAndReferences(soup):\n",
    "    pList = soup.findAll('p',{\"class\":[\"description\", \"references\"]})\n",
    "    dict = {}\n",
    "    for p in pList :\n",
    "        name = p.get(\"class\")[0]\n",
    "        if (p.text != ''):\n",
    "            dict[name] = p.text.replace('\\t','').replace('\\n','')\n",
    "    return dict\n",
    "    \n",
    "\n",
    "#Funció per obtenir els enllaços de Youtube i els seus títols.\n",
    "def getYoutubeVideos(soup):\n",
    "    divList = soup.findAll('div',{\"class\":\"media\"})\n",
    "    dict = {}\n",
    "    listLink = []\n",
    "    listTitle = []\n",
    "    for div in divList :\n",
    "        link = div.find('iframe')[\"src\"]\n",
    "        listLink.append(link)\n",
    "        dict[\"youtube-links\"] = \", \".join(map(str, listLink))\n",
    "        title = div.h5.text\n",
    "        listTitle.append(title)\n",
    "        dict[\"youtube-titles\"] = \", \".join(map(str, listTitle))\n",
    "    return dict\n",
    "\n",
    "\n",
    "#Funció per obtenir els enllaços de Game-screenshots i els seus títols.\n",
    "def getGameScreenShots(soup):\n",
    "    divList = soup.findAll('div',{\"class\":\"top-game single-game\"})\n",
    "    dict = {}\n",
    "    listLink = []\n",
    "    listTitle = []\n",
    "    for div in divList :\n",
    "        link = div.find ('img')[\"src\"] \n",
    "        listLink.append(link)\n",
    "        dict[\"screenshots-links\"] = \", \".join(map(str, listLink))\n",
    "        title = div.find('div',{\"class\": \"top-game-text\"})\n",
    "        title1 = title.p.text\n",
    "        listTitle.append(title1)\n",
    "        dict[\"screenshots-titles\"] = \", \".join(map(str, listTitle))\n",
    "        load_requests(link, title1)\n",
    "    return dict\n",
    "\n",
    "\n",
    "#Funció que emmagatzema la imatge amb url a una carpeta.    \n",
    "def load_requests(source_url, title1):\n",
    "    r = requests.get(source_url, stream = True)\n",
    "    if r.status_code == 200:\n",
    "        aSplit = source_url.split('/')\n",
    "        ruta = rutaIMGS1+title1+\"/\"+aSplit[len(aSplit)-1] \n",
    "        pathlib.Path(rutaIMGS1+title1).mkdir(parents=True, exist_ok=True)\n",
    "        #print(ruta)\n",
    "        output = open(ruta,\"wb\")\n",
    "    for chunk in r:\n",
    "        output.write(chunk)\n",
    "    output.close()\n",
    "    \n",
    "#Funció per obtenir la informació de les roms\n",
    "def getRomsInfo(soup):\n",
    "    pList = soup.findAll('p',{\"class\":\"rom-info\"})\n",
    "    dict = {}\n",
    "    for p in pList :\n",
    "        strongList = p.findAll('strong',{\"class\":\"info-name\"})\n",
    "        country = \"\"\n",
    "        for strong in strongList:\n",
    "            title = strong.text\n",
    "            if title == \"Country\":\n",
    "                country = strong.next_sibling.next_sibling.text.replace('\\xa0','')\n",
    "            if title == \"Common Filenames\":\n",
    "                listCommonFiles = []\n",
    "                for tag in strong.next_siblings:\n",
    "                    if(tag):\n",
    "                        commonFiles = str(tag).strip().replace(\"<em>\",\"\").replace(\"</em>\",\"\").replace(\"<br/>\",\"\")\n",
    "                        if(commonFiles):\n",
    "                            listCommonFiles.append(commonFiles)\n",
    "                desc = \", \".join(map(str, listCommonFiles))\n",
    "            else:    \n",
    "                desc = strong.next_sibling.next_sibling.text.replace('\\xa0','')\n",
    "            dict[title+\"-\"+country]= desc\n",
    "    return dict\n",
    "\n",
    "#Funció per obtenir la informació de la gent d'staff\n",
    "def getStaffInfo(soup):\n",
    "    pList = soup.findAll('p',{\"class\":\"staff-list\"})\n",
    "    dict = {}\n",
    "    listPeople=[]\n",
    "    for p in pList :\n",
    "        strongList = p.findAll('strong')\n",
    "        for strong in strongList:\n",
    "            title = strong.text\n",
    "            listPeople = []\n",
    "            for tag in strong.next_siblings:\n",
    "                if tag.name == \"strong\":\n",
    "                    break\n",
    "                else:\n",
    "                    people = str(tag).strip().replace(\"<em>\",\"\").replace(\"</em>\",\"\").replace(\"<br/>\",\"\")\n",
    "                    if(people):\n",
    "                        listPeople.append(people)\n",
    "            dict[title] = \", \".join(map(str, listPeople))\n",
    "    return dict    \n",
    "    "
   ]
  },
  {
   "cell_type": "markdown",
   "metadata": {},
   "source": [
    "### Definició de constants:"
   ]
  },
  {
   "cell_type": "code",
   "execution_count": 44,
   "metadata": {},
   "outputs": [],
   "source": [
    "#Constants\n",
    "\n",
    "base_url = \"https://superfamicom.org\"\n",
    "path_snes = \"/game-list\"\n",
    "delay=0.5\n",
    "#ruta segons usuari\n",
    "rutaIMGS=\"E:/UOC/Tipologia i cicle de vida de les dades/UOC-PRA1-M2.951-WebScraping-dnavarro30-tllusa/imgs/\"\n",
    "rutaIMGS1 = \"/Users/davidnavarrobrugal/Documents/imatges_jocs/\"\n",
    "\n"
   ]
  },
  {
   "cell_type": "markdown",
   "metadata": {},
   "source": [
    "### Propietàri de la pàgina:"
   ]
  },
  {
   "cell_type": "code",
   "execution_count": 45,
   "metadata": {
    "scrolled": true
   },
   "outputs": [
    {
     "name": "stdout",
     "output_type": "stream",
     "text": [
      "{\n",
      "  \"domain_name\": [\n",
      "    \"SUPERFAMICOM.ORG\",\n",
      "    \"superfamicom.org\"\n",
      "  ],\n",
      "  \"registrar\": \"NAMECHEAP INC\",\n",
      "  \"whois_server\": \"whois.namecheap.com\",\n",
      "  \"referral_url\": null,\n",
      "  \"updated_date\": [\n",
      "    \"2018-09-26 15:23:23\",\n",
      "    \"2015-12-14 23:55:32\"\n",
      "  ],\n",
      "  \"creation_date\": \"2008-07-17 14:09:41\",\n",
      "  \"expiration_date\": \"2024-07-17 14:09:41\",\n",
      "  \"name_servers\": [\n",
      "    \"NS1.DREAMHOST.COM\",\n",
      "    \"NS2.DREAMHOST.COM\",\n",
      "    \"NS3.DREAMHOST.COM\",\n",
      "    \"ns1.dreamhost.com\",\n",
      "    \"ns2.dreamhost.com\",\n",
      "    \"ns3.dreamhost.com\"\n",
      "  ],\n",
      "  \"status\": \"ok https://icann.org/epp#ok\",\n",
      "  \"emails\": [\n",
      "    \"abuse@namecheap.com\",\n",
      "    \"gapetto@gmail.com\"\n",
      "  ],\n",
      "  \"dnssec\": \"unsigned\",\n",
      "  \"name\": \"Matthew  Callis\",\n",
      "  \"org\": \"eludevisibility\",\n",
      "  \"address\": \"625 Bel Air Dr.\",\n",
      "  \"city\": \"Nashville\",\n",
      "  \"state\": \"S\",\n",
      "  \"zipcode\": \"37217\",\n",
      "  \"country\": \"US\"\n",
      "}\n"
     ]
    }
   ],
   "source": [
    "print (whois.whois(\"https://superfamicom.org\"))"
   ]
  },
  {
   "cell_type": "markdown",
   "metadata": {},
   "source": [
    "### Comprovació dels robots:"
   ]
  },
  {
   "cell_type": "code",
   "execution_count": 46,
   "metadata": {},
   "outputs": [
    {
     "name": "stdout",
     "output_type": "stream",
     "text": [
      "Downloading: https://superfamicom.org/robots.txt\n",
      "b'Sitemap: http://superfamicom.org/sitemap.xml\\nSitemap: http://superfamicom.org/sitemap-famicom.xml\\nSitemap: http://superfamicom.org/sitemap-translations.xml\\nSitemap: http://superfamicom.org/blog/sitemap.xml\\nUser-agent: *\\nDisallow: /cgi-bin/\\nDisallow: /hop/\\nDisallow: /cache/\\nDisallow: *function.*\\nDisallow: /sitemap.php'\n"
     ]
    }
   ],
   "source": [
    "robots = downloadRobots(base_url)\n",
    "print(robots)"
   ]
  },
  {
   "cell_type": "markdown",
   "metadata": {},
   "source": [
    "No s'han trobat restriccions per poder realitzar el webscraping."
   ]
  },
  {
   "cell_type": "markdown",
   "metadata": {},
   "source": [
    "### Aconseguir els enllaços de les diferents pàgines:"
   ]
  },
  {
   "cell_type": "code",
   "execution_count": 47,
   "metadata": {},
   "outputs": [
    {
     "name": "stdout",
     "output_type": "stream",
     "text": [
      "Downloading: https://superfamicom.org/game-list\n",
      "['https://superfamicom.org/game-list', 'https://superfamicom.org/game-list/2', 'https://superfamicom.org/game-list/3', 'https://superfamicom.org/game-list/4', 'https://superfamicom.org/game-list/5', 'https://superfamicom.org/game-list/6', 'https://superfamicom.org/game-list/7', 'https://superfamicom.org/game-list/8', 'https://superfamicom.org/game-list/9', 'https://superfamicom.org/game-list/10', 'https://superfamicom.org/game-list/11', 'https://superfamicom.org/game-list/12', 'https://superfamicom.org/game-list/13', 'https://superfamicom.org/game-list/14', 'https://superfamicom.org/game-list/15', 'https://superfamicom.org/game-list/16', 'https://superfamicom.org/game-list/17', 'https://superfamicom.org/game-list/18', 'https://superfamicom.org/game-list/19', 'https://superfamicom.org/game-list/20', 'https://superfamicom.org/game-list/21', 'https://superfamicom.org/game-list/22', 'https://superfamicom.org/game-list/23', 'https://superfamicom.org/game-list/24']\n"
     ]
    }
   ],
   "source": [
    "html = downloadPage(base_url+path_snes)\n",
    "soup = BeautifulSoup(html, \"html5lib\")\n",
    "linkPages = getPages(soup,base_url)\n",
    "\n",
    "print(linkPages)"
   ]
  },
  {
   "cell_type": "markdown",
   "metadata": {},
   "source": [
    "### Aconseguir els enllaços de tots els videojocs, de totes les pàgines:"
   ]
  },
  {
   "cell_type": "code",
   "execution_count": 48,
   "metadata": {
    "scrolled": true
   },
   "outputs": [
    {
     "name": "stdout",
     "output_type": "stream",
     "text": [
      "Downloading: https://superfamicom.org/game-list\n",
      "Downloading: https://superfamicom.org/game-list/2\n",
      "Downloading: https://superfamicom.org/game-list/3\n",
      "Downloading: https://superfamicom.org/game-list/4\n",
      "Downloading: https://superfamicom.org/game-list/5\n",
      "Downloading: https://superfamicom.org/game-list/6\n",
      "Downloading: https://superfamicom.org/game-list/7\n",
      "Downloading: https://superfamicom.org/game-list/8\n",
      "Downloading: https://superfamicom.org/game-list/9\n",
      "Downloading: https://superfamicom.org/game-list/10\n",
      "Downloading: https://superfamicom.org/game-list/11\n",
      "Downloading: https://superfamicom.org/game-list/12\n",
      "Downloading: https://superfamicom.org/game-list/13\n",
      "Downloading: https://superfamicom.org/game-list/14\n",
      "Downloading: https://superfamicom.org/game-list/15\n",
      "Downloading: https://superfamicom.org/game-list/16\n",
      "Downloading: https://superfamicom.org/game-list/17\n",
      "Downloading: https://superfamicom.org/game-list/18\n",
      "Downloading: https://superfamicom.org/game-list/19\n",
      "Downloading: https://superfamicom.org/game-list/20\n",
      "Downloading: https://superfamicom.org/game-list/21\n",
      "Downloading: https://superfamicom.org/game-list/22\n",
      "Downloading: https://superfamicom.org/game-list/23\n",
      "Downloading: https://superfamicom.org/game-list/24\n",
      "['https://superfamicom.org/info/actraiser', 'https://superfamicom.org/info/akumajou-dracula', 'https://superfamicom.org/info/area-88', 'https://superfamicom.org/info/battle-commander-hachibushu-shura-no-heihou', 'https://superfamicom.org/info/battle-dodgeball', 'https://superfamicom.org/info/big-run-the-supreme-4wd-challenge', 'https://superfamicom.org/info/bombuzal', 'https://superfamicom.org/info/card-master-rimusaria-no-fuuin', 'https://superfamicom.org/info/chibi-maruko-chan-harikiri-365-nichi-no-maki', 'https://superfamicom.org/info/chou-makaimura', 'https://superfamicom.org/info/choukou-goukami-xardion', 'https://superfamicom.org/info/contra-spirits', 'https://superfamicom.org/info/darius-twin', 'https://superfamicom.org/info/dimension-force', 'https://superfamicom.org/info/dragon-ball-z-super-saiya-densetsu', 'https://superfamicom.org/info/dragon-slayer-eiyuu-densetsu', 'https://superfamicom.org/info/drakkhen', 'https://superfamicom.org/info/dungeon-master', 'https://superfamicom.org/info/exhaust-heat', 'https://superfamicom.org/info/f-zero', 'https://superfamicom.org/info/final-fantasy-4', 'https://superfamicom.org/info/final-fantasy-4-easy-type', 'https://superfamicom.org/info/final-fight', 'https://superfamicom.org/info/final-fight-guy', 'https://superfamicom.org/info/ganbare-goemon-yuki-hime-kyuushutsu-emaki', 'https://superfamicom.org/info/gd-leen', 'https://superfamicom.org/info/gradius-iii', 'https://superfamicom.org/info/hakunetsu-pro-yakyuu-ganba-league', 'https://superfamicom.org/info/hansei-zaru-jirou-kun-no-daibouken', 'https://superfamicom.org/info/harukanaru-augusta', 'https://superfamicom.org/info/hat-trick-hero', 'https://superfamicom.org/info/hyper-zone', 'https://superfamicom.org/info/jerry-boy', 'https://superfamicom.org/info/jumbo-ozaki-no-hole-in-one', 'https://superfamicom.org/info/kidou-senshi-gundam-f91-formula-senki-0122', 'https://superfamicom.org/info/lagoon', 'https://superfamicom.org/info/lemmings', 'https://superfamicom.org/info/otogirisou', 'https://superfamicom.org/info/pilotwings', 'https://superfamicom.org/info/populous', 'https://superfamicom.org/info/pro-football', 'https://superfamicom.org/info/pro-soccer', 'https://superfamicom.org/info/radical-psycho-machine-racing', 'https://superfamicom.org/info/raiden-densetsu', 'https://superfamicom.org/info/romancing-saga', 'https://superfamicom.org/info/rushing-beat', 'https://superfamicom.org/info/sd-gundam-gaiden-knight-gundam-monogatari-ooinaru-isan', 'https://superfamicom.org/info/sd-the-great-battle-aratanaru-chousen', 'https://superfamicom.org/info/shinseiki-gpx-cyber-formula', 'https://superfamicom.org/info/shodan-morita-shougi', 'https://superfamicom.org/info/sim-city', 'https://superfamicom.org/info/sim-earth-the-living-planet', 'https://superfamicom.org/info/smash-tv', 'https://superfamicom.org/info/soul-blader', 'https://superfamicom.org/info/strike-gunner-stg', 'https://superfamicom.org/info/super-birdie-rush', 'https://superfamicom.org/info/super-chinese-world', 'https://superfamicom.org/info/super-earth-defense-force', 'https://superfamicom.org/info/super-famista', 'https://superfamicom.org/info/super-fire-pro-wrestling', 'https://superfamicom.org/info/super-formation-soccer', 'https://superfamicom.org/info/super-inindou-datou-nobunaga', 'https://superfamicom.org/info/super-mario-world', 'https://superfamicom.org/info/super-nobunaga-no-yabou-bushou-fuuunroku', 'https://superfamicom.org/info/super-professional-baseball', 'https://superfamicom.org/info/super-r-type', 'https://superfamicom.org/info/super-sangokushi-2', 'https://superfamicom.org/info/super-stadium', 'https://superfamicom.org/info/super-tennis-world-circuit', 'https://superfamicom.org/info/super-ultra-baseball', 'https://superfamicom.org/info/super-wagyan-land', 'https://superfamicom.org/info/takahashi-meijin-no-daibouken-shima', 'https://superfamicom.org/info/tatakae-genshijin', 'https://superfamicom.org/info/the-adventures-of-the-rocketeer', 'https://superfamicom.org/info/the-great-battle-2-last-fighter-twin', 'https://superfamicom.org/info/thunder-spirits', 'https://superfamicom.org/info/top-racer', 'https://superfamicom.org/info/ultraman', 'https://superfamicom.org/info/ys-iii-wanderers-from-ys', 'https://superfamicom.org/info/zelda-no-densetsu-kamigami-no-triforce', 'https://superfamicom.org/info/3x3-eyes-sazanaizu-seima-kourinden', 'https://superfamicom.org/info/acrobat-mission', 'https://superfamicom.org/info/air-management-oozora-ni-kakeru', 'https://superfamicom.org/info/axelay', 'https://superfamicom.org/info/battle-blaze', 'https://superfamicom.org/info/battle-grand-prix', 'https://superfamicom.org/info/blazeon', 'https://superfamicom.org/info/cameltry', 'https://superfamicom.org/info/captain-tsubasa-iii-koutei-no-chousen', 'https://superfamicom.org/info/cb-chara-wars-ushinawareta-gag', 'https://superfamicom.org/info/dai-senryaku-expert', 'https://superfamicom.org/info/dino-wars-kyouryuu-oukoku-heno-daibouken', 'https://superfamicom.org/info/dragon-quest-v-tenkuu-no-hanayome', 'https://superfamicom.org/info/earth-light-anime-tic-space-war-game', 'https://superfamicom.org/info/f-1-grand-prix', 'https://superfamicom.org/info/gambler-jiko-chuushinha-mahjong-kouisen', 'https://superfamicom.org/info/ginga-eiyuu-densetsu', 'https://superfamicom.org/info/gousou-jinrai-densetsu-musya', 'https://superfamicom.org/info/herakles-no-eikou-iii-kamigami-no-chinmoku', 'https://superfamicom.org/info/hiryuu-no-ken-s-golden-fighter', 'https://superfamicom.org/info/hokuto-no-ken-5-tenma-ryuuseiden-ai-zetsu-shou', 'https://superfamicom.org/info/home-alone', 'https://superfamicom.org/info/honoo-no-doukyuuji-dodge-danpei', 'https://superfamicom.org/info/hook', 'https://superfamicom.org/info/kentou-ou-world-champion', 'https://superfamicom.org/info/kikou-keisatsu-metal-jack', 'https://superfamicom.org/info/king-of-the-monsters', 'https://superfamicom.org/info/kinnikuman-dirty-challenger', 'https://superfamicom.org/info/kouryuu-densetsu-villgust-kieta-shoujo', 'https://superfamicom.org/info/koushien-2', 'https://superfamicom.org/info/light-fantasy', 'https://superfamicom.org/info/magic-sword', 'https://superfamicom.org/info/magical-taruruuto-kun-magic-adventure', 'https://superfamicom.org/info/maka-maka', 'https://superfamicom.org/info/mario-paint', 'https://superfamicom.org/info/new-3d-golf-simulation-pebble-beach-no-hatou', 'https://superfamicom.org/info/new-3d-golf-simulation-waialae-no-kiseki', 'https://superfamicom.org/info/othello-world', 'https://superfamicom.org/info/pachinko-wars', 'https://superfamicom.org/info/parodius-da-shinwa-kara-owarai-he', 'https://superfamicom.org/info/pga-tour-golf', 'https://superfamicom.org/info/phalanx-the-enforce-fighter-a-144', 'https://superfamicom.org/info/pipe-dream', 'https://superfamicom.org/info/prince-of-persia', 'https://superfamicom.org/info/ranma-12-chounai-gekitou-hen', 'https://superfamicom.org/info/sandra-no-daibouken-valkyrie-tono-deai', 'https://superfamicom.org/info/sd-kidou-senshi-gundam-v-sakusen-shidou', 'https://superfamicom.org/info/shodai-nekketsu-kouha-kunio-kun', 'https://superfamicom.org/info/sonic-blast-man', 'https://superfamicom.org/info/sougou-kakutougi-astral-bout', 'https://superfamicom.org/info/spindizzy-worlds', 'https://superfamicom.org/info/street-fighter-2-the-world-warrior', 'https://superfamicom.org/info/super-aleste', 'https://superfamicom.org/info/super-bowling', 'https://superfamicom.org/info/super-cup-soccer', 'https://superfamicom.org/info/super-dai-koukai-jidai', 'https://superfamicom.org/info/super-dunk-shot', 'https://superfamicom.org/info/super-f1-circus', 'https://superfamicom.org/info/super-gachapon-world-sd-gundam-x', 'https://superfamicom.org/info/super-mahjong', 'https://superfamicom.org/info/super-mahjong-taikai', 'https://superfamicom.org/info/super-mario-kart', 'https://superfamicom.org/info/super-momotarou-dentetsu-2', 'https://superfamicom.org/info/super-off-road', 'https://superfamicom.org/info/super-pang', 'https://superfamicom.org/info/super-professional-baseball-2', 'https://superfamicom.org/info/super-shanghai-dragons-eye', 'https://superfamicom.org/info/super-shougi', 'https://superfamicom.org/info/super-valis-akaki-tsuki-no-otome', 'https://superfamicom.org/info/suzuki-akuri-no-f-1-super-driving', 'https://superfamicom.org/info/syvalion', 'https://superfamicom.org/info/teenage-mutant-ninja-turtles-turtles-in-time', 'https://superfamicom.org/info/teitoku-no-ketsudan', 'https://superfamicom.org/info/ultima-vi-itsuwari-no-yogensha', 'https://superfamicom.org/info/ultimate-football-try-formation', 'https://superfamicom.org/info/ultra-baseball-jitsumei-han', 'https://superfamicom.org/info/wwf-super-wrestlemania', 'https://superfamicom.org/info/yokoyama-mitsuteru-sangokushi', 'https://superfamicom.org/info/yuuyu-no-quiz-de-go-go', 'https://superfamicom.org/info/zan-2-spirits', 'https://superfamicom.org/info/46-okunen-monogatari-harukanaru-eden-he', 'https://superfamicom.org/info/aliens-vs-predator', 'https://superfamicom.org/info/america-oudan-ultra-quiz', 'https://superfamicom.org/info/ashita-no-joe', 'https://superfamicom.org/info/assault-suits-valken', 'https://superfamicom.org/info/barbarossa', 'https://superfamicom.org/info/battle-soccer-field-no-hasha', 'https://superfamicom.org/info/benkei-gaiden-suna-no-shou', 'https://superfamicom.org/info/burai-hachigyoku-no-yuushi-densetsu', 'https://superfamicom.org/info/cacoma-knight-in-bizyland', 'https://superfamicom.org/info/cosmo-gang-the-video', 'https://superfamicom.org/info/cyber-knight', 'https://superfamicom.org/info/dai-bakushou-jinsei-gekijou', 'https://superfamicom.org/info/david-cranes-amazing-tennis', 'https://superfamicom.org/info/dragons-earth', 'https://superfamicom.org/info/elfaria-a-fantastic-theater', 'https://superfamicom.org/info/europe-sensen', 'https://superfamicom.org/info/final-fantasy-5', 'https://superfamicom.org/info/flying-hero-bugyuru-no-daibouken', 'https://superfamicom.org/info/garou-densetsu-shukumei-no-tatakai', 'https://superfamicom.org/info/gunforce-battle-fire-engulfed-terror-island', 'https://superfamicom.org/info/hakunetsu-pro-yakyuu-93-ganba-league', 'https://superfamicom.org/info/hanjuku-hero-hanjuku-eiyuu-aa-sekai-yo-hanjuku-nare', 'https://superfamicom.org/info/hero-senki-project-olympus', 'https://superfamicom.org/info/hiryu-no-ken-s-hyper-version', 'https://superfamicom.org/info/hokuto-no-ken-6-gekitou-denshou-ken-haou-heno-michi', 'https://superfamicom.org/info/human-grand-prix', 'https://superfamicom.org/info/kidou-soukou-dion', 'https://superfamicom.org/info/kiki-kaikai-nazo-no-kuro-manto', 'https://superfamicom.org/info/lennus-kodai-kikai-no-kioku', 'https://superfamicom.org/info/looney-tunes-road-runner-vs-wily-e-coyote', 'https://superfamicom.org/info/lord-monarch', 'https://superfamicom.org/info/mahjong-hisshou-den-naki-no-ryuu', 'https://superfamicom.org/info/major-title', 'https://superfamicom.org/info/makeruna-makendou-kendo-rage', 'https://superfamicom.org/info/mickey-no-magical-adventure', 'https://superfamicom.org/info/might-and-magic-book-2', 'https://superfamicom.org/info/mystery-circle', 'https://superfamicom.org/info/nakajima-satoru-super-f-1-hero', 'https://superfamicom.org/info/naxat-super-pinball-jaki-hakai', 'https://superfamicom.org/info/outer-world', 'https://superfamicom.org/info/pachiokun-special', 'https://superfamicom.org/info/populous-2-trials-of-the-olympian-gods', 'https://superfamicom.org/info/power-athlete', 'https://superfamicom.org/info/psycho-dream', 'https://superfamicom.org/info/ranma-12-bakuretsu-rantou-hen', 'https://superfamicom.org/info/return-of-double-dragon', 'https://superfamicom.org/info/royal-conquest', 'https://superfamicom.org/info/rushing-beat-ran-fukusei-toshi', 'https://superfamicom.org/info/sangokushi-3', 'https://superfamicom.org/info/sd-gundam-gaiden-2-entaku-no-kishi', 'https://superfamicom.org/info/serizawa-nobuo-no-birdie-try', 'https://superfamicom.org/info/shijou-saikyou-no-quiz-ou-kettei-sen-super', 'https://superfamicom.org/info/shin-megami-tensei', 'https://superfamicom.org/info/shounen-ashibe-goma-chan-no-yuuenchi-daibouken', 'https://superfamicom.org/info/sky-mission', 'https://superfamicom.org/info/song-master', 'https://superfamicom.org/info/stealth', 'https://superfamicom.org/info/super-black-bass', 'https://superfamicom.org/info/super-f1-circus-limited', 'https://superfamicom.org/info/super-fire-pro-wrestling-2', 'https://superfamicom.org/info/super-kick-off', 'https://superfamicom.org/info/super-linearball', 'https://superfamicom.org/info/super-nichibutsu-mahjong', 'https://superfamicom.org/info/super-oozumou-nessen-ou-ichiban', 'https://superfamicom.org/info/super-royal-blood', 'https://superfamicom.org/info/super-star-wars', 'https://superfamicom.org/info/super-swiv', 'https://superfamicom.org/info/super-tetris-2-bombliss', 'https://superfamicom.org/info/super-volley-2', 'https://superfamicom.org/info/supiritto-oozumou-tamashii', 'https://superfamicom.org/info/taiketsu-brass-numbers', 'https://superfamicom.org/info/tatakae-genshijin-2-rookie-no-bouken', 'https://superfamicom.org/info/tecmo-super-nba-basketball', 'https://superfamicom.org/info/the-addams-family', 'https://superfamicom.org/info/the-combatribes', 'https://superfamicom.org/info/the-king-of-rally', 'https://superfamicom.org/info/tiny-toon-adventures-buster-busts-loose', 'https://superfamicom.org/info/volleyball-twin', 'https://superfamicom.org/info/wizardry-5-heart-of-the-maelstrom', 'https://superfamicom.org/info/2020-super-baseball', 'https://superfamicom.org/info/action-pachio', 'https://superfamicom.org/info/air-management-2-koukuu-ou-wo-mezase', 'https://superfamicom.org/info/albert-odyssey', 'https://superfamicom.org/info/batman-returns', 'https://superfamicom.org/info/battletech', 'https://superfamicom.org/info/bio-metal', 'https://superfamicom.org/info/breath-of-fire-ryuu-no-senshi', 'https://superfamicom.org/info/california-games-2', 'https://superfamicom.org/info/captain-tsubasa-iv-pro-no-rival-tachi', 'https://superfamicom.org/info/chou-makai-taisen-dorabot-chan', 'https://superfamicom.org/info/conveni-wars-barcode-battler-senki-super-senshi-shutsugeki-seyo', 'https://superfamicom.org/info/cosmo-gang-the-puzzle', 'https://superfamicom.org/info/cosmo-police-galivan-2-arrow-of-justice', 'https://superfamicom.org/info/dead-dance', 'https://superfamicom.org/info/densetsu-no-ogre-battle-the-march-of-the-black-queen', 'https://superfamicom.org/info/desert-strike-return-to-the-gulf', 'https://superfamicom.org/info/doraemon-nobita-to-yousei-no-kuni', 'https://superfamicom.org/info/dragon-ball-z-super-butouden', 'https://superfamicom.org/info/dragon-slayer-eiyuu-densetsu-2', 'https://superfamicom.org/info/dual-orb-seirei-tama-densetsu', 'https://superfamicom.org/info/edo-no-kiba', 'https://superfamicom.org/info/elnard', 'https://superfamicom.org/info/exhaust-heat-2-f1-driver-he-no-kiseki', 'https://superfamicom.org/info/f-1-grand-prix-part-2', 'https://superfamicom.org/info/final-fight-2', 'https://superfamicom.org/info/gegege-no-kitarou-fukkatsu-tenma-daiou', 'https://superfamicom.org/info/ihatovo-monogatari', 'https://superfamicom.org/info/ikari-no-yousai', 'https://superfamicom.org/info/international-tennis-tour', 'https://superfamicom.org/info/jojo-no-kimyou-na-bouken', 'https://superfamicom.org/info/jungle-wars-2', 'https://superfamicom.org/info/kikuni-masahiko-no-jantoushi-dora-ou', 'https://superfamicom.org/info/koutetsu-no-kishi', 'https://superfamicom.org/info/krustys-world', 'https://superfamicom.org/info/leading-company', 'https://superfamicom.org/info/metal-max-2', 'https://superfamicom.org/info/monopoly', 'https://superfamicom.org/info/namco-open', 'https://superfamicom.org/info/nba-all-star-challenge', 'https://superfamicom.org/info/nba-pro-basketball-bulls-vs-blazers', 'https://superfamicom.org/info/neugier-umi-to-kaze-no-koudou', 'https://superfamicom.org/info/new-3d-golf-simulation-devils-course', 'https://superfamicom.org/info/nigel-mansells-f1-challenge', 'https://superfamicom.org/info/nobunaga-kou-ki', 'https://superfamicom.org/info/oda-nobunaga-haou-no-gundan', 'https://superfamicom.org/info/pachinko-monogatari-pachi-slot-mo-aru-deyo', 'https://superfamicom.org/info/popn-twinbee', 'https://superfamicom.org/info/power-monger-mashou-no-bouryaku', 'https://superfamicom.org/info/pro-football-93', 'https://superfamicom.org/info/pro-mahjong-kiwame', 'https://superfamicom.org/info/q-bert-3', 'https://superfamicom.org/info/ryuu-kihei-dan-danzarubu', 'https://superfamicom.org/info/septentrion', 'https://superfamicom.org/info/sim-ant', 'https://superfamicom.org/info/star-fox', 'https://superfamicom.org/info/super-aoki-ookami-to-shiroki-meshika-genchou-hishi', 'https://superfamicom.org/info/super-battletank', 'https://superfamicom.org/info/super-bikkuriman', 'https://superfamicom.org/info/super-bomberman', 'https://superfamicom.org/info/super-dunk-star', 'https://superfamicom.org/info/super-famista-2', 'https://superfamicom.org/info/super-formation-soccer-2', 'https://superfamicom.org/info/super-kick-boxing', 'https://superfamicom.org/info/super-soukoban', 'https://superfamicom.org/info/super-wagyan-land-2', 'https://superfamicom.org/info/taikou-risshiden', 'https://superfamicom.org/info/taikyoku-igo-goliath', 'https://superfamicom.org/info/the-blues-brothers', 'https://superfamicom.org/info/the-great-battle-3', 'https://superfamicom.org/info/the-mahjong-touhaiden', 'https://superfamicom.org/info/the-shinri-game-akuma-no-kokoroji', 'https://superfamicom.org/info/the-simpsons-bart-no-fushigi-na-yume-no-daibouken', 'https://superfamicom.org/info/tsuppari-oozumou-risshin-shusse-hen', 'https://superfamicom.org/info/ultra-seven', 'https://superfamicom.org/info/usa-ice-hockey', 'https://superfamicom.org/info/ushio-to-tora', 'https://superfamicom.org/info/wally-wo-sagase-ehon-no-kuni-no-daibouken', 'https://superfamicom.org/info/world-class-rugby', 'https://superfamicom.org/info/xak-the-art-of-visual-stage', 'https://superfamicom.org/info/alien-3', 'https://superfamicom.org/info/ancient-magic-bazoo-mahou-sekai', 'https://superfamicom.org/info/battle-dodgeball-2', 'https://superfamicom.org/info/bishoujo-janshi-suchie-pie', 'https://superfamicom.org/info/bishoujo-senshi-sailor-moon', 'https://superfamicom.org/info/crayon-shin-chan-arashi-wo-yobu-enji', 'https://superfamicom.org/info/dai-3-ji-super-robot-taisen', 'https://superfamicom.org/info/dai-bakushou-jinsei-gekijou-dokidoki-seishun-hen', 'https://superfamicom.org/info/darius-force', 'https://superfamicom.org/info/death-brade', 'https://superfamicom.org/info/destructive', 'https://superfamicom.org/info/dragons-lair', 'https://superfamicom.org/info/final-fantasy-usa-mystic-quest', 'https://superfamicom.org/info/final-set-tennis', 'https://superfamicom.org/info/first-samurai', 'https://superfamicom.org/info/gekitotsu-dangan-jidousya-kessen-battle-mobile', 'https://superfamicom.org/info/ghost-sweeper-mikami-joreishi-ha-nice-body', 'https://superfamicom.org/info/go-go-dodge-league', 'https://superfamicom.org/info/gp-1', 'https://superfamicom.org/info/harukanaru-augusta-2-masters', 'https://superfamicom.org/info/hayazashi-nidan-morita-shougi', 'https://superfamicom.org/info/higashio-osamu-kanshuu-super-pro-yakyuu-stadium', 'https://superfamicom.org/info/honkaku-mahjong-tetsuman', 'https://superfamicom.org/info/human-baseball', 'https://superfamicom.org/info/j-league-soccer-prime-goal', 'https://superfamicom.org/info/jutei-senki', 'https://superfamicom.org/info/kachou-shima-kousaku', 'https://superfamicom.org/info/kamen-rider-sd-shutsugeki-rider-machine', 'https://superfamicom.org/info/kunio-kun-no-dodge-ball-dayo-zenin-shuugou-tournament-special', 'https://superfamicom.org/info/las-vegas-dream-in-golden-paradise', 'https://superfamicom.org/info/lufia-the-fortress-of-doom', 'https://superfamicom.org/info/magic-johnsons-super-slam-dunk', 'https://superfamicom.org/info/mario-and-wario', 'https://superfamicom.org/info/mazinger-z', 'https://superfamicom.org/info/mega-lo-mania-jikuu-dai-senrya-ku', 'https://superfamicom.org/info/mouryou-senki-madara-2', 'https://superfamicom.org/info/nfl-football', 'https://superfamicom.org/info/nitro-punks-might-heads', 'https://superfamicom.org/info/onita-atsushi-fmw', 'https://superfamicom.org/info/putty-moon', 'https://superfamicom.org/info/roger-clemens-mvp-baseball', 'https://superfamicom.org/info/sangokushi-seishi-tenbu-spirits', 'https://superfamicom.org/info/sanrio-world-smash-ball', 'https://superfamicom.org/info/sd-kidou-senshi-gundam-2', 'https://superfamicom.org/info/seiken-densetsu-2', 'https://superfamicom.org/info/sengoku-denshou', 'https://superfamicom.org/info/shin-nippon-pro-wrestling-chou-senshi-in-tokyo-dome', 'https://superfamicom.org/info/shinseiki-odysselya', 'https://superfamicom.org/info/silva-saga-ii-the-legend-of-light-and-darkness', 'https://superfamicom.org/info/sonic-wings', 'https://superfamicom.org/info/space-bazooka', 'https://superfamicom.org/info/street-fighter-2-turbo-hyper-fighting', 'https://superfamicom.org/info/super-air-diver', 'https://superfamicom.org/info/super-back-to-the-future-2', 'https://superfamicom.org/info/super-f1-circus-2', 'https://superfamicom.org/info/super-family-tennis', 'https://superfamicom.org/info/super-high-impact', 'https://superfamicom.org/info/super-james-pond-2', 'https://superfamicom.org/info/super-keiba', 'https://superfamicom.org/info/super-mario-collection', 'https://superfamicom.org/info/super-nobunaga-no-yabou-zen-koku-ban', 'https://superfamicom.org/info/super-power-league', 'https://superfamicom.org/info/super-scope-6', 'https://superfamicom.org/info/super-slap-shot', 'https://superfamicom.org/info/super-turrican', 'https://superfamicom.org/info/sword-world-sfc', 'https://superfamicom.org/info/thoroughbred-breeder', 'https://superfamicom.org/info/thunderbirds-kokusai-kyuujotai-shutsugeki-seyo', 'https://superfamicom.org/info/tom-and-jerry', 'https://superfamicom.org/info/torneco-no-daibouken-fushigi-no-dungeon', 'https://superfamicom.org/info/uchuu-no-kishi-tekkaman-blade', 'https://superfamicom.org/info/wing-commander', 'https://superfamicom.org/info/winning-post', 'https://superfamicom.org/info/world-heroes', 'https://superfamicom.org/info/world-soccer', 'https://superfamicom.org/info/wwf-royal-rumble', 'https://superfamicom.org/info/x-zone', 'https://superfamicom.org/info/yoshi-no-cookie', 'https://superfamicom.org/info/yoshi-no-road-hunting', 'https://superfamicom.org/info/zen-nippon-pro-wrestling', 'https://superfamicom.org/info/abc-monday-night-football', 'https://superfamicom.org/info/accele-brid', 'https://superfamicom.org/info/actraiser-2-chinmoku-heno-seisen', 'https://superfamicom.org/info/aladdin', 'https://superfamicom.org/info/alcahest', 'https://superfamicom.org/info/aqutallion', 'https://superfamicom.org/info/arcus-spirits', 'https://superfamicom.org/info/ardy-lightfoot', 'https://superfamicom.org/info/aretha', 'https://superfamicom.org/info/battle-master-kyuukyoku-no-senshitachi', 'https://superfamicom.org/info/choujikuu-yousai-macross-scrambled-valkyrie', 'https://superfamicom.org/info/classic-road', 'https://superfamicom.org/info/cool-spot', 'https://superfamicom.org/info/dolucky-no-kusayakiu', 'https://superfamicom.org/info/doraemon-2-nobita-no-toys-land-daibouken', 'https://superfamicom.org/info/downtown-nekketsu-baseball-monogatari', 'https://superfamicom.org/info/dragon-ball-z-super-butouden-2', 'https://superfamicom.org/info/dragon-quest-1-and-2', 'https://superfamicom.org/info/dynamic-stadium', 'https://superfamicom.org/info/f-15-super-strike-eagle', 'https://superfamicom.org/info/final-stretch', 'https://superfamicom.org/info/flashback-the-quest-for-identity', 'https://superfamicom.org/info/gaia-gensouki', 'https://superfamicom.org/info/ganbare-daiku-no-gensan', 'https://superfamicom.org/info/ganbare-goemon-2-kiteretsu-shougun-magginesu', 'https://superfamicom.org/info/garou-densetsu-2-aratanaru-tatakai', 'https://superfamicom.org/info/hakunetsu-pro-yakyuu-94-ganba-league-3', 'https://superfamicom.org/info/hatayama-hachi-no-pro-yakyuu-news-jitsmeiban', 'https://superfamicom.org/info/holy-striker', 'https://superfamicom.org/info/jimmy-connors-pro-tennis-tour', 'https://superfamicom.org/info/jissen-pachi-slot-hisshouhou', 'https://superfamicom.org/info/kamen-rider-kyoufu-fukkatsu-no-shokkaa-gundan', 'https://superfamicom.org/info/keiba-eight-special', 'https://superfamicom.org/info/kessen-dokapon-oukoku-4-densetsu-no-yusha-tachi', 'https://superfamicom.org/info/kikuni-masahiko-no-jantoushi-dora-ou-2', 'https://superfamicom.org/info/miracle-girls-tomomi-to-mi-kage-no-fushigi-sekai-no-dai-bouken', 'https://superfamicom.org/info/nba-pro-basketball-94-bulls-vs-suns', 'https://superfamicom.org/info/nobuhiro-takeda-no-super-cup-soccer', 'https://superfamicom.org/info/nobunaga-no-yabou-haouden', 'https://superfamicom.org/info/onizuka-katsuya-super-virtual-boxing', 'https://superfamicom.org/info/pachi-slot-love-story', 'https://superfamicom.org/info/pachinko-wars-ii', 'https://superfamicom.org/info/plok', 'https://superfamicom.org/info/r-type-3-the-third-lightning', 'https://superfamicom.org/info/ranma-12-akanekodan-teki-hihou', 'https://superfamicom.org/info/riddick-bowe-boxing', 'https://superfamicom.org/info/rockman-x', 'https://superfamicom.org/info/romancing-saga-2', 'https://superfamicom.org/info/rushing-beat-shura', 'https://superfamicom.org/info/ryuuko-no-ken', 'https://superfamicom.org/info/shougi-fuurin-kazan', 'https://superfamicom.org/info/solstice-2', 'https://superfamicom.org/info/soukou-kihei-votoms-the-battling-road', 'https://superfamicom.org/info/soul-and-sword', 'https://superfamicom.org/info/super-3d-baseball', 'https://superfamicom.org/info/super-casino-caesars-palace', 'https://superfamicom.org/info/super-chinese-world-2-uchuu-ichibuto-daikai', 'https://superfamicom.org/info/super-hq-criminal-chaser', 'https://superfamicom.org/info/super-kyousouba-kaze-no-sylphid', 'https://superfamicom.org/info/super-kyuukyoku-harikiri-stadium', 'https://superfamicom.org/info/super-mahjong-2-honkaku-4-nin-uchi', 'https://superfamicom.org/info/super-nichibutsu-mahjong-2-zenkoku-seiha-hen', 'https://superfamicom.org/info/super-puyo-puyo', 'https://superfamicom.org/info/super-star-wars-the-empire-strikes-back', 'https://superfamicom.org/info/super-uno', 'https://superfamicom.org/info/suzuka-8-hours', 'https://superfamicom.org/info/tecmo-super-bowl', 'https://superfamicom.org/info/teenage-mutant-ninja-turtles-mutant-warriors', 'https://superfamicom.org/info/the-hunt-for-red-october', 'https://superfamicom.org/info/the-ring-final-knockout', 'https://superfamicom.org/info/trinea', 'https://superfamicom.org/info/utopia-the-creation-of-a-nation', 'https://superfamicom.org/info/viking-no-daimeiwaku', 'https://superfamicom.org/info/wakataka-ozumo-yume-no-kyoudai-taiketsu-brothers-dream-match', 'https://superfamicom.org/info/wondrous-magic', 'https://superfamicom.org/info/yadamon-wonderland-dreams', 'https://superfamicom.org/info/ys-4-mask-of-the-sun', 'https://superfamicom.org/info/yume-maboroshi-no-gotoku', 'https://superfamicom.org/info/yuu-yuu-hakusho', 'https://superfamicom.org/info/yuujin-janjuu-gakuen', 'https://superfamicom.org/info/ace-o-nerae', 'https://superfamicom.org/info/advanced-dungeons-and-dragons-eye-of-the-beholder', 'https://superfamicom.org/info/asameshimae-nyanko', 'https://superfamicom.org/info/bastard-ankoku-no-hakaishin', 'https://superfamicom.org/info/battletoads-in-battlemaniacs', 'https://superfamicom.org/info/bing-bing-bingo', 'https://superfamicom.org/info/bishin-densetsu-zoku-the-legend-of-bishin', 'https://superfamicom.org/info/bishoujo-senshi-sailor-moon-r', 'https://superfamicom.org/info/brain-lord', 'https://superfamicom.org/info/cyborg-009', 'https://superfamicom.org/info/dai-koukai-jidai-2', 'https://superfamicom.org/info/derby-stallion-ii', 'https://superfamicom.org/info/desert-fighter-suna-no-arashi-sakusen', 'https://superfamicom.org/info/dokuritsu-sensou-liberty-or-death', 'https://superfamicom.org/info/fire-emblem-monshou-no-nazo', 'https://superfamicom.org/info/first-queen-ornic-senki', 'https://superfamicom.org/info/gaia-saver-hero-saidai-no-sakusen', 'https://superfamicom.org/info/galaxy-robo', 'https://superfamicom.org/info/hebereke-no-popoon', 'https://superfamicom.org/info/hiouden-mamono-tachi-tono-chikai', 'https://superfamicom.org/info/hisshou-777-fighter-pachi-slot-ryuuguu-densetsu', 'https://superfamicom.org/info/hokuto-no-ken-7-seiken-retsuden-den-shou-sha-he-no-michi', 'https://superfamicom.org/info/human-grand-prix-2', 'https://superfamicom.org/info/itadaki-street-2-neon-sign-ha-bara-iro-ni', 'https://superfamicom.org/info/itou-hate-rokudan-no-shougi-doujou', 'https://superfamicom.org/info/j-league-super-soccer', 'https://superfamicom.org/info/jikkyou-powerful-pro-yakyuu-94', 'https://superfamicom.org/info/john-madden-nfl-pro-football-94', 'https://superfamicom.org/info/kabuki-rocks', 'https://superfamicom.org/info/karuraou', 'https://superfamicom.org/info/kidou-senshi-v-gundam', 'https://superfamicom.org/info/king-of-the-monsters-2-the-next-thing', 'https://superfamicom.org/info/kingyo-chuihou-tobidase-game-gakuen', 'https://superfamicom.org/info/koutetsu-no-kishi-2-sabaku-no-rommel-shougun', 'https://superfamicom.org/info/lethal-enforcers', 'https://superfamicom.org/info/little-magic', 'https://superfamicom.org/info/majin-tensei', 'https://superfamicom.org/info/monster-maker-3-hikari-no-majyutsushi', 'https://superfamicom.org/info/mortal-kombat', 'https://superfamicom.org/info/olivias-mystery', 'https://superfamicom.org/info/pachi-slot-land-pachi-pachi-coin-no-densetsu', 'https://superfamicom.org/info/ramos-rui-no-world-wide-soccer', 'https://superfamicom.org/info/rock-n-roll-racing', 'https://superfamicom.org/info/shin-megami-tensei-2', 'https://superfamicom.org/info/shin-momotarou-densetsu', 'https://superfamicom.org/info/side-pocket', 'https://superfamicom.org/info/soccer-kid', 'https://superfamicom.org/info/sonic-blast-man-2', 'https://superfamicom.org/info/sougou-kakutougi-astral-bout-2-the-total-fighters', 'https://superfamicom.org/info/space-funky-bob', 'https://superfamicom.org/info/sugoi-hebereke', 'https://superfamicom.org/info/super-famista-3', 'https://superfamicom.org/info/super-fire-pro-wrestling-3-easy-type', 'https://superfamicom.org/info/super-fire-pro-wrestling-3-final-bout', 'https://superfamicom.org/info/super-godzilla', 'https://superfamicom.org/info/super-honmei-gi-seiha', 'https://superfamicom.org/info/super-loopz', 'https://superfamicom.org/info/super-pinball-behind-the-mask', 'https://superfamicom.org/info/super-tetris-2-bombliss-limited-edition', 'https://superfamicom.org/info/super-zugan-hakotenjou-kara-no-shoutaijou', 'https://superfamicom.org/info/sutobasu-yarou-show-3-on-3-basketball', 'https://superfamicom.org/info/sword-maniac', 'https://superfamicom.org/info/t2-the-arcade-game', 'https://superfamicom.org/info/tatakae-genshijin-3-shuyaku-ha-yappari-joe-and-mac', 'https://superfamicom.org/info/tetris-battle-gaiden', 'https://superfamicom.org/info/tetsuwan-atom', 'https://superfamicom.org/info/the-great-battle-gaiden-2', 'https://superfamicom.org/info/the-king-of-dragons', 'https://superfamicom.org/info/the-ninja-warriors-again', 'https://superfamicom.org/info/top-management-2', 'https://superfamicom.org/info/top-racer-2', 'https://superfamicom.org/info/twinbee-rainbow-bell-adventure', 'https://superfamicom.org/info/uchuu-race-astro-go-go', 'https://superfamicom.org/info/virtual-wars', 'https://superfamicom.org/info/wolfenstein-3d-the-claw-of-eisenfaust', 'https://superfamicom.org/info/world-class-rugby-2-kokunai-gekitou-hen-93', 'https://superfamicom.org/info/yokoyama-mitsuteru-sangokushi-2', 'https://superfamicom.org/info/zan-3-spirits', 'https://superfamicom.org/info/zen-nippon-pro-wrestling-dash-sekai-saikyou-tag', 'https://superfamicom.org/info/zico-soccer', 'https://superfamicom.org/info/andre-agassi-tennis', 'https://superfamicom.org/info/araiguma-rascal-raccoon-rascal', 'https://superfamicom.org/info/bugs-bunny-hachamecha-daibouken', 'https://superfamicom.org/info/champions-world-class-soccer', 'https://superfamicom.org/info/crayon-shin-chan-2-daimaou-no-gyakushuu', 'https://superfamicom.org/info/dark-kingdom', 'https://superfamicom.org/info/date-kimiko-no-virtual-tennis', 'https://superfamicom.org/info/derby-jockey-kishu-ou-he-no-michi', 'https://superfamicom.org/info/drift-king-shutokou-battle-94', 'https://superfamicom.org/info/dynamaite-the-las-vegas', 'https://superfamicom.org/info/f-1-grand-prix-part-3', 'https://superfamicom.org/info/fifa-international-soccer', 'https://superfamicom.org/info/fighters-history', 'https://superfamicom.org/info/final-fantasy-6', 'https://superfamicom.org/info/fortune-quest-dice-wo-korogase', 'https://superfamicom.org/info/from-tv-animation-slam-dunk-shikyou-gekitotsu', 'https://superfamicom.org/info/gambler-jiko-chuushinha-2-dorapon-quest', 'https://superfamicom.org/info/heisei-inu-monogatari-bow-popn-smash', 'https://superfamicom.org/info/idea-no-hi', 'https://superfamicom.org/info/j-league-excite-stage-94', 'https://superfamicom.org/info/jurassic-park', 'https://superfamicom.org/info/keiba-yosou-baken-renkinjutsu', 'https://superfamicom.org/info/kenyu-densetsu-yaiba', 'https://superfamicom.org/info/kero-kero-keroppi-no-bouken-nikki-nemureru-mori-no-keroriinu', 'https://superfamicom.org/info/kidou-keisatsu-patlabor', 'https://superfamicom.org/info/kiki-kaikai-tsukiyo-soushi', 'https://superfamicom.org/info/knights-of-the-round', 'https://superfamicom.org/info/kouryuuki', 'https://superfamicom.org/info/kunio-no-oden', 'https://superfamicom.org/info/marchen-adventure-cotton-100', 'https://superfamicom.org/info/melfand-stories', 'https://superfamicom.org/info/muscle-bomber-the-body-explosion', 'https://superfamicom.org/info/nangoku-shounen-papuwa-kun', 'https://superfamicom.org/info/nba-jam', 'https://superfamicom.org/info/nhl-pro-hockey-94', 'https://superfamicom.org/info/nice-de-shot-world-course-selections', 'https://superfamicom.org/info/pachiokun-special-2', 'https://superfamicom.org/info/pink-panther-in-pink-goes-to-hollywood', 'https://superfamicom.org/info/popful-mail', 'https://superfamicom.org/info/ranma-12-chougi-ranbu-hen', 'https://superfamicom.org/info/rockmans-soccer', 'https://superfamicom.org/info/rokudenashi-blues-taiketsu-tokyo-shitennou', 'https://superfamicom.org/info/sd-gundam-gx', 'https://superfamicom.org/info/sd-hiryuu-no-ken', 'https://superfamicom.org/info/shadowrun', 'https://superfamicom.org/info/shien-the-blade-chaser', 'https://superfamicom.org/info/shin-mahjong', 'https://superfamicom.org/info/shin-nekketsu-kouha-kunio-tachi-no-banka', 'https://superfamicom.org/info/slayers', 'https://superfamicom.org/info/space-ace', 'https://superfamicom.org/info/space-invaders-the-original-game', 'https://superfamicom.org/info/super-4wd-the-baja', 'https://superfamicom.org/info/super-battletank-2', 'https://superfamicom.org/info/super-billiard-championship-pool', 'https://superfamicom.org/info/super-bomberman-2', 'https://superfamicom.org/info/super-dogfight-f-14-tomcat-air-combat-game', 'https://superfamicom.org/info/super-double-yakuman', 'https://superfamicom.org/info/super-formation-soccer-94-world-cup-edition', 'https://superfamicom.org/info/super-gomoku-narabe-renju', 'https://superfamicom.org/info/super-hockey-94', 'https://superfamicom.org/info/super-igo-go-ou', 'https://superfamicom.org/info/super-indy-champ', 'https://superfamicom.org/info/super-metroid', 'https://superfamicom.org/info/super-naxat-open-golf-de-shoubu-da-dorabocchan', 'https://superfamicom.org/info/super-pachi-slot-mahjong', 'https://superfamicom.org/info/super-real-mahjong-p4', 'https://superfamicom.org/info/super-robot-taisen-ex', 'https://superfamicom.org/info/super-shougi-2', 'https://superfamicom.org/info/super-troll-islands', 'https://superfamicom.org/info/the-blue-crystal-rod', 'https://superfamicom.org/info/the-game-of-life-super-jinsei-game', 'https://superfamicom.org/info/thoroughbred-breeder-2', 'https://superfamicom.org/info/ultima-gaiden-kurokishi-no-inbou', 'https://superfamicom.org/info/waratte-iitomo-tamorin-pick', 'https://superfamicom.org/info/wild-trax', 'https://superfamicom.org/info/world-cup-striker', 'https://superfamicom.org/info/yamaneko-bubsy-no-daibouken', 'https://superfamicom.org/info/yume-meikyuu-kigurumi-daibouken', 'https://superfamicom.org/info/yuu-yuu-hakusho-2-kakutou-no-shou', 'https://superfamicom.org/info/zig-zag-cat-dachou-club-mo-oosawagi-da', 'https://superfamicom.org/info/appleseed-prometheus-no-shintaku', 'https://superfamicom.org/info/battle-zeque-den', 'https://superfamicom.org/info/beauty-and-the-beast', 'https://superfamicom.org/info/bishoujo-senshi-sailor-moon-s-kondo-ha-puzzle-de-oshioki-yo', 'https://superfamicom.org/info/brandish', 'https://superfamicom.org/info/choplifter-3-rescue-survive', 'https://superfamicom.org/info/cyber-knight-2-chikyuu-teikoku-no-yabou', 'https://superfamicom.org/info/dezaemon-kaite-tsukutte-asoberu', 'https://superfamicom.org/info/dolucky-no-a-league-soccer', 'https://superfamicom.org/info/fire-pro-joshi-all-star-dream-slam', 'https://superfamicom.org/info/garou-densetsu-special', 'https://superfamicom.org/info/genocide-2', 'https://superfamicom.org/info/goofy-to-max-kaizoku-shima-no-daibouken', 'https://superfamicom.org/info/hat-trick-hero-2', 'https://superfamicom.org/info/hebereke-no-oishii-puzzle-ha-irimasenka', 'https://superfamicom.org/info/hello-pac-man', 'https://superfamicom.org/info/hisshou-777-fighter-2-pachi-slot-maruhi-jouhou', 'https://superfamicom.org/info/j-league-soccer-prime-goal-2', 'https://superfamicom.org/info/jigsaw-party', 'https://superfamicom.org/info/jissen-pachi-slot-hisshouhou-2', 'https://superfamicom.org/info/jungle-no-ouja-taa-chan-sekai-manyuu-dai-kakutou-no-maki', 'https://superfamicom.org/info/kabuki-chou-reach-mahjong', 'https://superfamicom.org/info/keeper', 'https://superfamicom.org/info/kirby-bowl', 'https://superfamicom.org/info/kishin-kourinden-oni', 'https://superfamicom.org/info/koushien-3', 'https://superfamicom.org/info/leading-jockey', 'https://superfamicom.org/info/lemmings-2-the-tribes', 'https://superfamicom.org/info/libble-rabble', 'https://superfamicom.org/info/live-a-live', 'https://superfamicom.org/info/lode-runner-twin-justy-to-liberty-no-daibouken', 'https://superfamicom.org/info/mahjong-gokuu-tenjiku', 'https://superfamicom.org/info/mahou-poi-poi-poitto', 'https://superfamicom.org/info/matsumura-kunihiro-den-saikyou-no-rekishi-o-nuri-kaero', 'https://superfamicom.org/info/mother-2-gyiyg-no-gyakushuu', 'https://superfamicom.org/info/odekake-lester-lelele-no-le', 'https://superfamicom.org/info/ossu-karate-bu', 'https://superfamicom.org/info/pachi-slot-kenkyuu', 'https://superfamicom.org/info/pachi-slot-monogatari-universal-special', 'https://superfamicom.org/info/pinball-pinball', 'https://superfamicom.org/info/popeye-ijiwaru-majo-sea-hag-no-maki', 'https://superfamicom.org/info/pro-mahjong-kiwame-2', 'https://superfamicom.org/info/sanrio-shanghai', 'https://superfamicom.org/info/sansara-naga-2', 'https://superfamicom.org/info/shanghai-3', 'https://superfamicom.org/info/shin-nippon-pro-wrestling-94-battlefield-in-tokyo-dome', 'https://superfamicom.org/info/slap-stick', 'https://superfamicom.org/info/sparkster', 'https://superfamicom.org/info/super-drakkhen', 'https://superfamicom.org/info/super-f1-circus-3', 'https://superfamicom.org/info/super-final-match-tennis', 'https://superfamicom.org/info/super-genjin', 'https://superfamicom.org/info/super-hanafuda', 'https://superfamicom.org/info/super-kokou-yakyuu-ichikyuu-jikkon', 'https://superfamicom.org/info/super-kyuukyoku-harikiri-stadium-2', 'https://superfamicom.org/info/super-nichibutsu-mahjong-3-yoshimoto-gekijyo-hen', 'https://superfamicom.org/info/super-ninja-kun', 'https://superfamicom.org/info/super-pachinko', 'https://superfamicom.org/info/super-power-league-2', 'https://superfamicom.org/info/super-sangokushi', 'https://superfamicom.org/info/super-street-fighter-2-the-new-challengers', 'https://superfamicom.org/info/super-ultra-baseball-2', 'https://superfamicom.org/info/sword-world-sfc-2-inishie-no-kyojin-densetsu', 'https://superfamicom.org/info/taekwon-do', 'https://superfamicom.org/info/tenshi-no-uta-shiroki-tsubasa-no-inori', 'https://superfamicom.org/info/tetris-flash', 'https://superfamicom.org/info/the-firemen', 'https://superfamicom.org/info/the-flintstones-the-treasure-of-sierra-madrock', 'https://superfamicom.org/info/the-jungle-book', 'https://superfamicom.org/info/tsuri-tarou', 'https://superfamicom.org/info/ugoku-e-ver-2-aryol', 'https://superfamicom.org/info/wild-guns', 'https://superfamicom.org/info/wizap-ankoku-no-ou', 'https://superfamicom.org/info/world-cup-usa-94', 'https://superfamicom.org/info/world-heroes-2', 'https://superfamicom.org/info/yokozuna-monogatari', 'https://superfamicom.org/info/yuujin-no-furi-furi-girls', 'https://superfamicom.org/info/zen-nippon-pro-wrestling-fight-da-pon', 'https://superfamicom.org/info/zero-4-champ-rr', 'https://superfamicom.org/info/zool-no-yume-bouken', 'https://superfamicom.org/info/angelique', 'https://superfamicom.org/info/bakutou-dodgers-bumps-shima-wa-oosawagi', 'https://superfamicom.org/info/barkleys-power-dunk', 'https://superfamicom.org/info/battle-soccer-2', 'https://superfamicom.org/info/bike-daisuki-hashiri-ya-tamashii', 'https://superfamicom.org/info/civilization-sekai-shichi-daibunmei', 'https://superfamicom.org/info/dai-bakushou-jinsei-gekijou-oedo-nikki', 'https://superfamicom.org/info/dear-boys', 'https://superfamicom.org/info/demons-blazon-makaimura-monshou-hen', 'https://superfamicom.org/info/dolucky-no-puzzle-tour-94', 'https://superfamicom.org/info/down-the-world-mervils-ambition', 'https://superfamicom.org/info/dragon-ball-z-super-butouden-3', 'https://superfamicom.org/info/dream-basketball-dunk-and-hoop', 'https://superfamicom.org/info/feda-the-emblem-of-justice', 'https://superfamicom.org/info/fire-fighting', 'https://superfamicom.org/info/funaki-masakatsu-no-hybrid-wrestler-tougi-densho', 'https://superfamicom.org/info/ganso-pachisuro-nipponichi', 'https://superfamicom.org/info/ghost-chaser-densei', 'https://superfamicom.org/info/gokujou-parodius', 'https://superfamicom.org/info/gon', 'https://superfamicom.org/info/gouketuji-ichizoku', 'https://superfamicom.org/info/gp-1-rapid-stream', 'https://superfamicom.org/info/hagane', 'https://superfamicom.org/info/hana-no-keiji-kumo-no-kanata-ni', 'https://superfamicom.org/info/harapeko-bakka', 'https://superfamicom.org/info/herakles-no-eikou-iv-kamigami-kara-no-okurimono', 'https://superfamicom.org/info/hissatsu-pachinko-collection', 'https://superfamicom.org/info/honkaku-mahjong-tetsuman-2', 'https://superfamicom.org/info/honkakuha-igo-gosei', 'https://superfamicom.org/info/honke-hanafuda', 'https://superfamicom.org/info/human-grand-prix-3-f1-triple-battle', 'https://superfamicom.org/info/illvanian-no-shiro', 'https://superfamicom.org/info/jikkyou-world-soccer-perfect-eleven', 'https://superfamicom.org/info/kagakusha-harley-no-haran-banjou', 'https://superfamicom.org/info/kamai-tachi-no-yoru', 'https://superfamicom.org/info/keiba-eight-special-2', 'https://superfamicom.org/info/kid-klown-in-crazy-chase', 'https://superfamicom.org/info/larry-nixons-super-bass-fishing', 'https://superfamicom.org/info/magna-braban-henreki-no-yusha', 'https://superfamicom.org/info/mahjong-sengoku-monogatari', 'https://superfamicom.org/info/mahjong-taikai-2', 'https://superfamicom.org/info/masaki-shimono-no-fishing-to-bassing', 'https://superfamicom.org/info/mickey-to-minnie-magical-adventure-2-the-great-circus-mystery', 'https://superfamicom.org/info/militia', 'https://superfamicom.org/info/monster-maker-kids-ousama-ni-naritai', 'https://superfamicom.org/info/mortal-kombat-2-kyuukyoku-shinken', 'https://superfamicom.org/info/mr-nutz', 'https://superfamicom.org/info/multi-play-volleyball', 'https://superfamicom.org/info/nakajima-satoru-kanshuu-f-1-hero-94', 'https://superfamicom.org/info/nakano-kouichi-kanshuu-keirin-ou', 'https://superfamicom.org/info/naruhodo-the-world', 'https://superfamicom.org/info/nontan-to-issho-kuru-kuru-puzzle', 'https://superfamicom.org/info/nosferatu', 'https://superfamicom.org/info/pachinko-fan-shouri-sengen', 'https://superfamicom.org/info/pachinko-maruhi-hisshouhou', 'https://superfamicom.org/info/panic-in-nakayoshi-world', 'https://superfamicom.org/info/samurai-spirits', 'https://superfamicom.org/info/sankyo-fever-fever', 'https://superfamicom.org/info/shin-megami-tensei-if', 'https://superfamicom.org/info/shonen-ninja-sasuke', 'https://superfamicom.org/info/sotsugyou-bangai-hen-nee-mahjong-shiyo', 'https://superfamicom.org/info/super-black-bass-2', 'https://superfamicom.org/info/super-casino-2', 'https://superfamicom.org/info/super-family-circuit', 'https://superfamicom.org/info/super-formation-soccer-94-world-cup-final-data', 'https://superfamicom.org/info/super-gomoku-shougi', 'https://superfamicom.org/info/super-mahjong-3-karakuchi', 'https://superfamicom.org/info/super-rugby', 'https://superfamicom.org/info/tadaima-yuusha-boshuuchuu-okawari', 'https://superfamicom.org/info/takeda-nobuhiro-no-super-league-soccer', 'https://superfamicom.org/info/tecmo-super-baseball', 'https://superfamicom.org/info/tenryuu-genichiro-no-pro-wrestling-revolution', 'https://superfamicom.org/info/the-incredible-crash-dummies-dr-sabu-o-sukuidase', 'https://superfamicom.org/info/tiny-toon-adventures-dotabata-dai-undoukai', 'https://superfamicom.org/info/tokoros-mahjong', 'https://superfamicom.org/info/tsuyoshi-shikkarai-shinasai-taisen-puzzle-dama', 'https://superfamicom.org/info/ufo-kamen-yakisoban-kettler-no-kuroi-inbou-shihan-han', 'https://superfamicom.org/info/ultima-7-the-black-gate', 'https://superfamicom.org/info/virtual-bart', 'https://superfamicom.org/info/yuujin-janjuu-gakuen-2', 'https://superfamicom.org/info/albert-odyssey-2-jashin-no-taidou', 'https://superfamicom.org/info/aoki-densetsu-shoot', 'https://superfamicom.org/info/aretha-2-ariel-no-fushigi-na-bouken', 'https://superfamicom.org/info/battle-cross', 'https://superfamicom.org/info/battle-jockey', 'https://superfamicom.org/info/big-ichigeki-pachi-slot-daikouryaku', 'https://superfamicom.org/info/bishoujo-senshi-sailor-moon-s-jousai-rantou-shuyaku-shudatsusen', 'https://superfamicom.org/info/bonkers-hollywood-daisakusen', 'https://superfamicom.org/info/breath-of-fire-2-shimei-no-ko', 'https://superfamicom.org/info/brutal-paws-of-fury', 'https://superfamicom.org/info/captain-tsubasa-v-hasha-no-shougou-campione', 'https://superfamicom.org/info/daikaijuu-monogatari', 'https://superfamicom.org/info/dokapon-3-2-1-arashi-o-yobu-yuujou', 'https://superfamicom.org/info/doraemon-3-nobita-to-toki-no-hougyoku', 'https://superfamicom.org/info/dossun-ganseki-battle', 'https://superfamicom.org/info/dual-orb-2', 'https://superfamicom.org/info/full-power', 'https://superfamicom.org/info/ganbare-goemon-3-shishi-juuroku-hyoue-no-karakuri-manjigatame', 'https://superfamicom.org/info/ganso-pachinko-ou', 'https://superfamicom.org/info/ginga-eiyuu-densetsu-gionbana', 'https://superfamicom.org/info/go-go-ackman', 'https://superfamicom.org/info/godzilla-kaijuu-dai-kessen', 'https://superfamicom.org/info/hai-toride', 'https://superfamicom.org/info/hanafuda-ou', 'https://superfamicom.org/info/haou-taikei-ryuu-knight-lord-of-paladin', 'https://superfamicom.org/info/hashire-hebereke', 'https://superfamicom.org/info/hisshou-pachi-slot-fun', 'https://superfamicom.org/info/honkaku-shougi-fuuunji-ryuuou', 'https://superfamicom.org/info/janyuuki-gokuu-randa', 'https://superfamicom.org/info/jissen-mahjong-shinan', 'https://superfamicom.org/info/jwp-jyoshi-pro-wrestling-pure-wrestle-queens', 'https://superfamicom.org/info/kidou-butoden-g-gundam', 'https://superfamicom.org/info/lupin-sansei-densetsu-no-hihou-o-oe', 'https://superfamicom.org/info/mahjong-club', 'https://superfamicom.org/info/mickey-no-tokyo-disneyland-daibouken', 'https://superfamicom.org/info/nba-live-95', 'https://superfamicom.org/info/newman-haas-indy-car-featuring-nigel-mansell', 'https://superfamicom.org/info/okamoto-ayako-to-match-play-golf-ko-olina-golf-club-in-hawaii', 'https://superfamicom.org/info/pac-in-time', 'https://superfamicom.org/info/pachi-slot-shoubushi', 'https://superfamicom.org/info/poko-nyan-henpokorin-adventure', 'https://superfamicom.org/info/power-of-the-hired', 'https://superfamicom.org/info/puzzle-bobble', 'https://superfamicom.org/info/rise-of-the-robots', 'https://superfamicom.org/info/rockman-x2', 'https://superfamicom.org/info/ryuuko-no-ken-2', 'https://superfamicom.org/info/sangokushi-4', 'https://superfamicom.org/info/seifuku-densetsu-pretty-fighter', 'https://superfamicom.org/info/ski-paradise-with-snowboard', 'https://superfamicom.org/info/street-racer', 'https://superfamicom.org/info/sugoro-quest-dicenics', 'https://superfamicom.org/info/sun-spo-fishing-keiryuu-ou', 'https://superfamicom.org/info/super-castles', 'https://superfamicom.org/info/super-chinese-fighter', 'https://superfamicom.org/info/super-donkey-kong', 'https://superfamicom.org/info/super-fire-pro-wrestling-special', 'https://superfamicom.org/info/super-fishing-big-fight', 'https://superfamicom.org/info/super-moero-pro-yakyuu', 'https://superfamicom.org/info/super-momotarou-dentetsu-3', 'https://superfamicom.org/info/super-snakey', 'https://superfamicom.org/info/super-tetris-3', 'https://superfamicom.org/info/super-tsume-shougi-1000', 'https://superfamicom.org/info/super-wrestle-angels', 'https://superfamicom.org/info/super-zugan-2-tsukanpo-fighter', 'https://superfamicom.org/info/takahashi-meijin-no-daibouken-shima-2', 'https://superfamicom.org/info/tecmo-super-bowl-2-special-edition', 'https://superfamicom.org/info/the-great-battle-4', 'https://superfamicom.org/info/the-last-battle', 'https://superfamicom.org/info/the-lion-king', 'https://superfamicom.org/info/ultra-baseball-jitsumei-ban-2', 'https://superfamicom.org/info/umi-tsuri-meijin-suzuki-hen', 'https://superfamicom.org/info/umihara-kawase', 'https://superfamicom.org/info/vortex-the-fx-robot-battle', 'https://superfamicom.org/info/wagyan-paradise', 'https://superfamicom.org/info/wonder-project-j-kikai-no-shounen-pino', 'https://superfamicom.org/info/x-men-mutant-apocalypse', 'https://superfamicom.org/info/yogi-bear', 'https://superfamicom.org/info/yokoyama-mitsuteru-sangokushi-bangai-sugoroku-eiyuuki', 'https://superfamicom.org/info/yuu-yuu-hakusho-tokubetsu-hen', 'https://superfamicom.org/info/zenkoku-koukou-soccer-senshuken', 'https://superfamicom.org/info/Jammes', 'https://superfamicom.org/info/battle-pinball', 'https://superfamicom.org/info/battle-racers', 'https://superfamicom.org/info/bishoujo-senshi-sailor-moon-s-kurukku-rin', 'https://superfamicom.org/info/captain-commando', 'https://superfamicom.org/info/chrono-trigger', 'https://superfamicom.org/info/classic-road-2', 'https://superfamicom.org/info/dai-4-ji-super-robot-taisen', 'https://superfamicom.org/info/derby-stallion-iii', 'https://superfamicom.org/info/dharma-doujou', 'https://superfamicom.org/info/dragon-ball-z-super-gokuu-den-totsugeki-hen', 'https://superfamicom.org/info/drift-king-shutokou-battle-2-tsuchiya-keiichi-and-bandou-masaaki', 'https://superfamicom.org/info/eien-no-filerna', 'https://superfamicom.org/info/emit-vol-1-toki-no-maigo', 'https://superfamicom.org/info/emit-vol-2-inochigake-no-tabi', 'https://superfamicom.org/info/emit-vol-3-watashi-ni-sayonara-wo', 'https://superfamicom.org/info/farland-story', 'https://superfamicom.org/info/fighters-history-2-mizoguchi-kiki-ippatsu', 'https://superfamicom.org/info/from-tv-animation-slam-dunk-2-ih-yosen-kanzenban', 'https://superfamicom.org/info/front-mission', 'https://superfamicom.org/info/galaxy-wars', 'https://superfamicom.org/info/gindama-oyakata-no-pachinko-hisshouhou', 'https://superfamicom.org/info/heiwa-pachinko-world', 'https://superfamicom.org/info/hissatsu-pachinko-collection-2', 'https://superfamicom.org/info/houkago-in-beppin-jogakuin', 'https://superfamicom.org/info/iron-commando-kotetsu-no-senshi', 'https://superfamicom.org/info/j-league-super-soccer-95-jikkyou-stadium', 'https://superfamicom.org/info/jikkyou-powerful-pro-yakyuu-2', 'https://superfamicom.org/info/kidou-senshi-gundam-cross-dimension-0079', 'https://superfamicom.org/info/kiteretsu-daihyakka-cho-jikuu-sugoroku', 'https://superfamicom.org/info/kousoku-shikou-shougi-ou', 'https://superfamicom.org/info/koutetsu-no-kishi-3-gekitotsu-europe-sensen', 'https://superfamicom.org/info/kyoraku-sanyo-toyomaru-parlor-parlor', 'https://superfamicom.org/info/last-bible-iii', 'https://superfamicom.org/info/love-quest', 'https://superfamicom.org/info/lufia-2-rise-of-the-sinistrals', 'https://superfamicom.org/info/magical-popn', 'https://superfamicom.org/info/majin-tensei-2-spiral-nemesis', 'https://superfamicom.org/info/makeruna-makendou-2-kimero-youkai-souri', 'https://superfamicom.org/info/michael-andrettis-indy-car-challenge', 'https://superfamicom.org/info/mickey-mania-the-timeless-adventures-of-mickey-mouse', 'https://superfamicom.org/info/miracle-casino-paradise', 'https://superfamicom.org/info/nage-libre-seijaku-no-suishin', 'https://superfamicom.org/info/nba-jam-tournament-edition', 'https://superfamicom.org/info/nekketsu-tairiku-burning-heroes', 'https://superfamicom.org/info/nfl-quarterback-club-95', 'https://superfamicom.org/info/oraga-land-shusai-best-farmer-shuukaku-sai', 'https://superfamicom.org/info/otoboke-ninja-colosseum', 'https://superfamicom.org/info/pachinko-monogatari-2-nagoya-shachihoko-no-teiou', 'https://superfamicom.org/info/rockman-7-shukumei-no-taiketsu', 'https://superfamicom.org/info/rpg-tsukuru-super-dante', 'https://superfamicom.org/info/saibara-reiko-no-mahjong-hourouki', 'https://superfamicom.org/info/shigetaka-kashiwagi-no-top-water-bassing', 'https://superfamicom.org/info/shougi-club', 'https://superfamicom.org/info/sprinter-monogatari-mezase-ikkaku-senkin', 'https://superfamicom.org/info/stardust-suplex', 'https://superfamicom.org/info/super-air-diver-2', 'https://superfamicom.org/info/super-baken-ou-95', 'https://superfamicom.org/info/super-bomberman-panic-bomber-world', 'https://superfamicom.org/info/super-bombliss', 'https://superfamicom.org/info/super-drift-out', 'https://superfamicom.org/info/super-famista-4', 'https://superfamicom.org/info/super-formation-soccer-95-della-series-a', 'https://superfamicom.org/info/super-jangou', 'https://superfamicom.org/info/super-mad-champ', 'https://superfamicom.org/info/super-pinball-ii-the-amazing-odyssey', 'https://superfamicom.org/info/teitoku-no-ketsudan-2', 'https://superfamicom.org/info/the-amazing-spider-man-lethal-foes', 'https://superfamicom.org/info/the-atlas-renaissance-voyager', 'https://superfamicom.org/info/the-chessmaster', 'https://superfamicom.org/info/the-shinri-game-2-magical-trip', 'https://superfamicom.org/info/time-cop', 'https://superfamicom.org/info/turf-hero', 'https://superfamicom.org/info/turf-memories', 'https://superfamicom.org/info/undercover-cops', 'https://superfamicom.org/info/waku-waku-ski-wonder-shoot', 'https://superfamicom.org/info/winning-post-2', 'https://superfamicom.org/info/wolverine-adamantium-rage', 'https://superfamicom.org/info/yam-yam', 'https://superfamicom.org/info/yuu-yuu-hakusho-final-makai-saikyou-retsuden', 'https://superfamicom.org/info/3-jigen-kakutou-ballz', 'https://superfamicom.org/info/battle-tycoon-flash-hiders-sfx', 'https://superfamicom.org/info/caravan-shooting-collection', 'https://superfamicom.org/info/circuit-usa', 'https://superfamicom.org/info/computer-nouryoku-kaiseki-ultra-baken', 'https://superfamicom.org/info/deae-tonosama-appare-ichiban', 'https://superfamicom.org/info/dekitate-high-school', 'https://superfamicom.org/info/der-langrisser', 'https://superfamicom.org/info/earthworm-jim', 'https://superfamicom.org/info/elfaria-ii-the-quest-of-the-meld', 'https://superfamicom.org/info/esparks-ijikuu-kara-no-raihousha', 'https://superfamicom.org/info/gamera-gyaosu-gekimetsu-sakusen', 'https://superfamicom.org/info/ghoul-patrol', 'https://superfamicom.org/info/granhistoria-genshi-sekaiki', 'https://superfamicom.org/info/habu-meijin-no-omoshiro-shougi', 'https://superfamicom.org/info/haisei-mahjong-ryoga', 'https://superfamicom.org/info/hayazashi-nidan-morita-shougi-2', 'https://superfamicom.org/info/honke-sankyo-fever-jikki-simulation', 'https://superfamicom.org/info/j-league-excite-stage-95', 'https://superfamicom.org/info/jissen-kyoutei', 'https://superfamicom.org/info/jissen-pachi-slot-hisshouhou-classic', 'https://superfamicom.org/info/kawa-no-nushi-tsuri-2', 'https://superfamicom.org/info/kindai-mahjong-special', 'https://superfamicom.org/info/kyuuyaku-megami-tensei', 'https://superfamicom.org/info/la-wares', 'https://superfamicom.org/info/lady-stalker-kako-kara-no-chousen', 'https://superfamicom.org/info/little-master-niji-iro-no-maseki', 'https://superfamicom.org/info/mahoujin-guru-guru', 'https://superfamicom.org/info/marmalade-boy', 'https://superfamicom.org/info/miyaji-shachou-no-pachinko-fan-shouri-sengen-2', 'https://superfamicom.org/info/monopoly-game-2', 'https://superfamicom.org/info/mr-do', 'https://superfamicom.org/info/natsuki-crisis-battle', 'https://superfamicom.org/info/nichibutsu-arcade-classics', 'https://superfamicom.org/info/nishijin-pachinko-monogatari', 'https://superfamicom.org/info/oomono-black-bass-fishing-jinzouko-hen', 'https://superfamicom.org/info/p-man', 'https://superfamicom.org/info/pachinko-challenger', 'https://superfamicom.org/info/pachinko-renchan-tengoku-super-cr-special', 'https://superfamicom.org/info/planets-champ-tg3000', 'https://superfamicom.org/info/princess-minerva', 'https://superfamicom.org/info/pro-mahjong-kiwame-3', 'https://superfamicom.org/info/puzzlen-desu', 'https://superfamicom.org/info/rejoice-aretha-oukoku-no-kanata', 'https://superfamicom.org/info/res-arcana-diana-ray-uranai-no-meikyuu', 'https://superfamicom.org/info/ruin-arm', 'https://superfamicom.org/info/saikousoku-shikou-shougi-mahjong', 'https://superfamicom.org/info/shijou-saikyou-league-serie-a-ace-striker', 'https://superfamicom.org/info/shiki-eiyuuden', 'https://superfamicom.org/info/shin-ikkaku-senkin', 'https://superfamicom.org/info/shin-nippon-pro-wrestling-kounin-95-tokyo-dome-battle-7', 'https://superfamicom.org/info/shin-sd-sengokuden-daishougun-retsuden', 'https://superfamicom.org/info/shinzui-taikyoku-igo-go-sennin', 'https://superfamicom.org/info/shodankurai-nintei-shodan-pro-mahjong', 'https://superfamicom.org/info/sim-city-2000', 'https://superfamicom.org/info/simulation-pro-yakyuu', 'https://superfamicom.org/info/snoopy-concert', 'https://superfamicom.org/info/spark-world', 'https://superfamicom.org/info/stargate', 'https://superfamicom.org/info/stone-protectors', 'https://superfamicom.org/info/super-bomberman-3', 'https://superfamicom.org/info/super-f1-circus-gaiden', 'https://superfamicom.org/info/super-fire-pro-wrestling-queens-special', 'https://superfamicom.org/info/super-keiba-2', 'https://superfamicom.org/info/super-kyoutei', 'https://superfamicom.org/info/super-nazo-puyo-lulu-no-luu', 'https://superfamicom.org/info/super-pachinko-taisen', 'https://superfamicom.org/info/super-real-mahjong-pv-paradise-all-star-4-nin-uchi', 'https://superfamicom.org/info/super-star-wars-return-of-the-jedi', 'https://superfamicom.org/info/super-trump-collection', 'https://superfamicom.org/info/syndicate', 'https://superfamicom.org/info/tactical-soccer', 'https://superfamicom.org/info/tarot-mystery', 'https://superfamicom.org/info/tottemo-lucky-man-lucky-cookie-roulette-de-totsugeki', 'https://superfamicom.org/info/true-lies', 'https://superfamicom.org/info/trump-island', 'https://superfamicom.org/info/warlock', 'https://superfamicom.org/info/yakouchu', 'https://superfamicom.org/info/youkai-buster-ruka-no-daibouken', 'https://superfamicom.org/info/zen-nippon-pro-wrestling-2-3-4-budoukan', 'https://superfamicom.org/info/4-nin-shougi', 'https://superfamicom.org/info/akumajou-dracula-xx', 'https://superfamicom.org/info/alice-no-paint-adventure', 'https://superfamicom.org/info/asahi-shinbun-rensai-katou-ichi-ni-san-shougi-shingiryuu', 'https://superfamicom.org/info/bass-masters-classic', 'https://superfamicom.org/info/battle-robot-retsuden', 'https://superfamicom.org/info/big-ichigeki-pachi-slot-daikoryaku-2-universal-collection', 'https://superfamicom.org/info/bishoujo-senshi-sailor-moon-another-story', 'https://superfamicom.org/info/blackthorne-fukushuu-no-kuroki-kyoku', 'https://superfamicom.org/info/bounty-sword', 'https://superfamicom.org/info/brandish-2-the-planet-buster', 'https://superfamicom.org/info/carrier-aces', 'https://superfamicom.org/info/chinhai', 'https://superfamicom.org/info/chou-mahou-tairiku-wozz', 'https://superfamicom.org/info/chouaniki-bakuretsu-rantou-hen', 'https://superfamicom.org/info/clock-tower', 'https://superfamicom.org/info/coron-land', 'https://superfamicom.org/info/derby-jockey-2', 'https://superfamicom.org/info/donald-duck-mahou-no-boushi', 'https://superfamicom.org/info/dragon-ball-z-super-gokuu-den-2-kakusei-hen', 'https://superfamicom.org/info/dun-quest-majin-fuuin-no-densetsu', 'https://superfamicom.org/info/emerald-dragon', 'https://superfamicom.org/info/fighting-baseball', 'https://superfamicom.org/info/gakkou-de-atta-kowai-hanashi', 'https://superfamicom.org/info/game-no-tatsujin', 'https://superfamicom.org/info/go-go-ackman-2', 'https://superfamicom.org/info/hi-no-ouji-yamato-takeru', 'https://superfamicom.org/info/hisshou-777-fighter-3-kokuryuu-ou-no-fukkatsu', 'https://superfamicom.org/info/human-grand-prix-4-f1-dream-battle', 'https://superfamicom.org/info/inazuma-serve-da-super-beach-volley', 'https://superfamicom.org/info/indiana-jones-greatest-adventures', 'https://superfamicom.org/info/j-league-soccer-prime-goal-3', 'https://superfamicom.org/info/jikkyou-world-soccer-2-fighting-eleven', 'https://superfamicom.org/info/jissen-bass-fishing-hisshouhou-in-usa', 'https://superfamicom.org/info/joushou-mahjong-tenpai', 'https://superfamicom.org/info/jungle-strike', 'https://superfamicom.org/info/kakinoki-shougi', 'https://superfamicom.org/info/kats-run-zennihon-k-car-senshuken', 'https://superfamicom.org/info/kishin-douji-zenki-rettou-raiden', 'https://superfamicom.org/info/kouryaku-casino-bar', 'https://superfamicom.org/info/koushien-4', 'https://superfamicom.org/info/kyoraku-sanyo-toyomaru-daiichi-maruhon-parlor-parlor-2', 'https://superfamicom.org/info/laplace-no-ma', 'https://superfamicom.org/info/magic-knight-rayearth', 'https://superfamicom.org/info/mahjong-hanjouki', 'https://superfamicom.org/info/majuu-ou', 'https://superfamicom.org/info/mario-no-super-picross', 'https://superfamicom.org/info/matsukata-hiroki-no-super-trawling', 'https://superfamicom.org/info/metal-max-returns', 'https://superfamicom.org/info/mystic-ark', 'https://superfamicom.org/info/nba-jikkyou-basket-winning-dunk', 'https://superfamicom.org/info/ninja-ryukenden-tomoe', 'https://superfamicom.org/info/nintama-rantarou', 'https://superfamicom.org/info/nomark-baku-haitou-shijou-saikyou-no-jakushi-tatsu', 'https://superfamicom.org/info/pitfall-maya-no-daibouken', 'https://superfamicom.org/info/popoitto-hebereke', 'https://superfamicom.org/info/ranma-12-ougi-jaanken', 'https://superfamicom.org/info/sakurai-shouichi-no-jankiryuu-mahjong-hisshouhou', 'https://superfamicom.org/info/sargeant-saunders-combat', 'https://superfamicom.org/info/shichuusui-meigaku-nyuumon-shin-tougenkyou', 'https://superfamicom.org/info/shin-shougi-club', 'https://superfamicom.org/info/shinri-game-3', 'https://superfamicom.org/info/shougi-saikyou', 'https://superfamicom.org/info/shuushoku-game-trendy-drama', 'https://superfamicom.org/info/st-andrews-eikou-to-rekishi-no-old-course', 'https://superfamicom.org/info/super-genjin-2', 'https://superfamicom.org/info/super-gussun-oyoyo', 'https://superfamicom.org/info/super-keirin', 'https://superfamicom.org/info/super-mario-world-2-yoshis-island', 'https://superfamicom.org/info/super-power-league-3', 'https://superfamicom.org/info/super-tekkyuu-fight', 'https://superfamicom.org/info/super-variable-geo', 'https://superfamicom.org/info/take-yutaka-gi-memory', 'https://superfamicom.org/info/takemiya-masaki-kudan-no-igo-taishou', 'https://superfamicom.org/info/tenchi-wo-kurau-sangokushi-gunyuuden', 'https://superfamicom.org/info/the-game-of-life-super-jinsei-game-2', 'https://superfamicom.org/info/ultima-kyoryu-teikoku-the-savage-empire', 'https://superfamicom.org/info/ultra-league-moero-soccer-daikessen', 'https://superfamicom.org/info/verne-world', 'https://superfamicom.org/info/wizardry-6-bane-of-the-cosmic-forge', 'https://superfamicom.org/info/aiii-sv-a-ressha-de-ikou-3-super-version', 'https://superfamicom.org/info/akagawa-jirou-majotachi-no-nemuri', 'https://superfamicom.org/info/american-battle-dome', 'https://superfamicom.org/info/angelique-premium-box', 'https://superfamicom.org/info/ball-bullet-gun-survival-game-simulation', 'https://superfamicom.org/info/batman-forever', 'https://superfamicom.org/info/bishoujo-senshi-sailor-moon-super-s-fuwa-fuwa-panic', 'https://superfamicom.org/info/block-kuzushi', 'https://superfamicom.org/info/captain-tsubasa-j-the-way-to-world-youth', 'https://superfamicom.org/info/chibi-maruko-chan-mezase-minami-no-island', 'https://superfamicom.org/info/clock-works', 'https://superfamicom.org/info/crystal-beans-from-dungeon-explorer', 'https://superfamicom.org/info/dokapon-gaiden-honoo-no-audition', 'https://superfamicom.org/info/doraemon-4-nobita-to-tsuki-no-oukoku', 'https://superfamicom.org/info/dragon-quest-vi-maboroshi-no-daichi', 'https://superfamicom.org/info/emit-value-set', 'https://superfamicom.org/info/foreman-for-real', 'https://superfamicom.org/info/frank-thomas-big-hurt-baseball', 'https://superfamicom.org/info/from-tv-animation-slam-dunk-sd-heat-up', 'https://superfamicom.org/info/fushigi-no-dungeon-2-furai-no-shiren', 'https://superfamicom.org/info/game-no-tetsujin-the-shanghai', 'https://superfamicom.org/info/gan-gan-gan-chan', 'https://superfamicom.org/info/gekitou-burning-pro-wrestling', 'https://superfamicom.org/info/go-go-ackman-3', 'https://superfamicom.org/info/gourmet-sentai-bara-yarou', 'https://superfamicom.org/info/hamelin-no-violin-hiki', 'https://superfamicom.org/info/harukanaru-augusta-3-masters-new', 'https://superfamicom.org/info/heian-fuuunden', 'https://superfamicom.org/info/heiwa-pachinko-world-2', 'https://superfamicom.org/info/hissatsu-pachinko-collection-3', 'https://superfamicom.org/info/holy-umbrella-dondera-no-mubo', 'https://superfamicom.org/info/hyper-iria', 'https://superfamicom.org/info/jikkyou-oshaberi-parodius-forever-with-me', 'https://superfamicom.org/info/judge-dredd', 'https://superfamicom.org/info/justice-league-task-force', 'https://superfamicom.org/info/kishin-douji-zenki-denei-raibu', 'https://superfamicom.org/info/konpeki-no-kantai', 'https://superfamicom.org/info/leading-jockey-2', 'https://superfamicom.org/info/light-fantasy-ii', 'https://superfamicom.org/info/logos-panic-goaisatu', 'https://superfamicom.org/info/magical-drop', 'https://superfamicom.org/info/mahjong-hisshou-den-shin-naki-no-ryuu', 'https://superfamicom.org/info/maten-densetsu-senritsu-no-ooparts', 'https://superfamicom.org/info/mickey-and-donald-magical-adventure-3', 'https://superfamicom.org/info/mighty-morphin-power-rangers', 'https://superfamicom.org/info/motteke-oh-dorobou', 'https://superfamicom.org/info/nichibutsu-arcade-classics-2-heiankyo-alien', 'https://superfamicom.org/info/ouchan-no-oekaki-logic', 'https://superfamicom.org/info/pachi-slot-monogatari-pal-kougyou-special', 'https://superfamicom.org/info/pachiokun-special-3', 'https://superfamicom.org/info/panel-de-pon', 'https://superfamicom.org/info/princess-maker-legend-of-another-world', 'https://superfamicom.org/info/rendering-ranger-r2', 'https://superfamicom.org/info/romancing-saga-3', 'https://superfamicom.org/info/sd-f-1-grand-prix', 'https://superfamicom.org/info/seijuu-maden-beasts-and-blades', 'https://superfamicom.org/info/seiken-densetsu-3', 'https://superfamicom.org/info/shanghai-banri-no-choujou', 'https://superfamicom.org/info/shinseiki-odysselya-2', 'https://superfamicom.org/info/shiroi-ringu-he-twinkle-little-star', 'https://superfamicom.org/info/shounin-yo-taishi-wo-idake', 'https://superfamicom.org/info/sougou-kakutougi-rings-astral-bout-3', 'https://superfamicom.org/info/star-trek-the-next-generation-futures-past', 'https://superfamicom.org/info/supapoon', 'https://superfamicom.org/info/super-donkey-kong-2-dixie-and-diddy', 'https://superfamicom.org/info/super-hanafuda-2', 'https://superfamicom.org/info/super-momotarou-dentetsu-dx', 'https://superfamicom.org/info/super-okuman-chouja-game-the-game-of-billionaire', 'https://superfamicom.org/info/super-puyo-puyo-2', 'https://superfamicom.org/info/tactics-ogre-let-us-cling-together', 'https://superfamicom.org/info/tales-of-phantasia', 'https://superfamicom.org/info/tenchi-muyou-game-hen', 'https://superfamicom.org/info/tenchi-souzou', 'https://superfamicom.org/info/theme-park', 'https://superfamicom.org/info/ultra-baseball-jitsumei-ban-3', 'https://superfamicom.org/info/wedding-peach', 'https://superfamicom.org/info/zen-nippon-gt-senshuken-hyper-battle-game', 'https://superfamicom.org/info/zenkoku-jyudan-ultra-shinri-game', 'https://superfamicom.org/info/zenkoku-koukou-soccer-senshuken-2', 'https://superfamicom.org/info/zero-4-champ-rr-z', 'https://superfamicom.org/info/3x3-eyes-sazanaizu-jyumahoukan', 'https://superfamicom.org/info/angelique-voice-fantasy', 'https://superfamicom.org/info/bahamut-lagoon', 'https://superfamicom.org/info/bakumatsu-kourinden-oni', 'https://superfamicom.org/info/battle-submarine', 'https://superfamicom.org/info/battletech-3050', 'https://superfamicom.org/info/brandish-2-expert', 'https://superfamicom.org/info/chaos-seed-fuusui-kairouki', 'https://superfamicom.org/info/dai-bakushou-jinsei-gekijou-zukkoke-salary-man-hen', 'https://superfamicom.org/info/derby-stallion-96', 'https://superfamicom.org/info/do-re-mi-fantasy-milon-no-dokidoki-daibouken', 'https://superfamicom.org/info/doom', 'https://superfamicom.org/info/dragon-ball-z-hyper-dimension', 'https://superfamicom.org/info/far-east-of-eden-tengai-makyou-zero', 'https://superfamicom.org/info/farland-story-2', 'https://superfamicom.org/info/final-fight-tough', 'https://superfamicom.org/info/front-mission-gun-hazard', 'https://superfamicom.org/info/gambling-hourouki', 'https://superfamicom.org/info/ganbare-goemon-4-kirakira-douchuu-boku-ga-dancer-ni-natta-riyuu', 'https://superfamicom.org/info/getsumen-no-anubis', 'https://superfamicom.org/info/ginga-sengoku-gunyuuden-rai', 'https://superfamicom.org/info/hayashi-kaihou-kudan-no-igo-oodou', 'https://superfamicom.org/info/heisei-gunjin-shougi', 'https://superfamicom.org/info/honke-sankyo-fever-jikki-simulation-2', 'https://superfamicom.org/info/hoshi-no-kirby-super-deluxe', 'https://superfamicom.org/info/igo-club', 'https://superfamicom.org/info/iso-zuri-ritou-hen', 'https://superfamicom.org/info/jb-the-super-bass', 'https://superfamicom.org/info/jikkyou-keiba-simulation-stable-star', 'https://superfamicom.org/info/jikkyou-powerful-pro-yakyuu-3', 'https://superfamicom.org/info/jissen-pachinko-hisshouhou-2', 'https://superfamicom.org/info/kidou-senshi-z-gundam-away-to-the-new-type', 'https://superfamicom.org/info/kishin-douji-zenki-tenchi-meidou', 'https://superfamicom.org/info/kouryuu-no-mimi', 'https://superfamicom.org/info/kyoraku-sanyo-toyomaru-okumura-daiichi-maruhon-parlor-parlor-4-cr', 'https://superfamicom.org/info/kyoraku-sanyo-toyomaru-okumura-taiyou-parlor-parlor-3', 'https://superfamicom.org/info/madou-monogatari-hanamaru-daiyouchienji-puyo-puyo-rpg', 'https://superfamicom.org/info/mizuki-shigeru-no-youkai-hyakkiyakou', 'https://superfamicom.org/info/mujintou-monogatari', 'https://superfamicom.org/info/new-yatterman-nan-dai-kan-dai-yajirobee', 'https://superfamicom.org/info/nfl-quarterback-club-96', 'https://superfamicom.org/info/nobunaga-no-yabou-tenshouki', 'https://superfamicom.org/info/pro-kishi-jinsei-simulation-shougi-no-hanamichi', 'https://superfamicom.org/info/record-of-lodoss-war', 'https://superfamicom.org/info/revolution-x', 'https://superfamicom.org/info/rpg-tsukuru-2', 'https://superfamicom.org/info/saikyou-takada-nobuhiko', 'https://superfamicom.org/info/same-game-tsume-game', 'https://superfamicom.org/info/sangokushi-eiketsuden', 'https://superfamicom.org/info/sd-gundam-gnext', 'https://superfamicom.org/info/sd-gundam-gnext-expansion-rom-unit-and-map-collection', 'https://superfamicom.org/info/sd-gundam-power-formation-puzzle', 'https://superfamicom.org/info/sengoku-no-hasha-tenka-nuno-bu-he-no-michi', 'https://superfamicom.org/info/shin-kidou-senki-gundam-wing-endless-duel', 'https://superfamicom.org/info/shougi-saikyou-2-jissen-taikyoku-hen', 'https://superfamicom.org/info/shougi-sanmai', 'https://superfamicom.org/info/soreyuke-ebisumaru-karakuri-meiro-kieta-goemon-no-nazo', 'https://superfamicom.org/info/super-black-bass-3', 'https://superfamicom.org/info/super-chinese-world-3-chou-jigen-dai-sakusen', 'https://superfamicom.org/info/super-famista-5', 'https://superfamicom.org/info/super-fire-pro-wrestling-x', 'https://superfamicom.org/info/super-fire-pro-wrestling-x-premium', 'https://superfamicom.org/info/super-mario-rpg-legend-of-the-seven-stars', 'https://superfamicom.org/info/super-puyo-puyo-2-remix', 'https://superfamicom.org/info/super-robot-taisen-gaiden-masou-kishin-the-lord-of-elemental', 'https://superfamicom.org/info/super-shougi-3-kitaihei', 'https://superfamicom.org/info/super-yakyuu-dou', 'https://superfamicom.org/info/taikyoku-igo-idaten', 'https://superfamicom.org/info/tecmo-super-bowl-3-final-edition', 'https://superfamicom.org/info/tekichuu-keiba-juku', 'https://superfamicom.org/info/the-great-battle-5', 'https://superfamicom.org/info/tokimeki-memorial-densetsu-no-ki-no-shita-de', 'https://superfamicom.org/info/touge-densetsu-saisoku-battle', 'https://superfamicom.org/info/tsukikomori', 'https://superfamicom.org/info/wwf-wrestlemania-the-arcade-game', 'https://superfamicom.org/info/youchien-senki-madara', 'https://superfamicom.org/info/ys-5-ushinawareta-suna-no-miyako-kefin', 'https://superfamicom.org/info/ys-5-ushinawareta-sunano-miyako-kefin-expert', 'https://superfamicom.org/info/zakuro-no-aji', 'https://superfamicom.org/info/zenkoku-koukou-soccer-senshuken-96', 'https://superfamicom.org/info/akazukin-cha-cha', 'https://superfamicom.org/info/arabian-nights-sabaku-no-seirei-ou', 'https://superfamicom.org/info/best-shot-pro-golf', 'https://superfamicom.org/info/bishoujo-senshi-sailor-moon-sailor-stars-fuwa-fuwa-panic-2', 'https://superfamicom.org/info/bishoujo-senshi-sailor-moon-sailor-stars-fuwa-fuwa-panic-2-with-sufami-turbo', 'https://superfamicom.org/info/bishoujo-senshi-sailor-moon-super-s-zenin-sanka-shuyaku-soudatsusen', 'https://superfamicom.org/info/bishoujo-wrestler-retsuden-blizzard-yuki-rannyuu', 'https://superfamicom.org/info/crayon-shin-chan-nagagutsu-dobon', 'https://superfamicom.org/info/dai-senrya-ku-expert-wwii-war-in-europe', 'https://superfamicom.org/info/daikaijuu-monogatari-ii', 'https://superfamicom.org/info/dark-half', 'https://superfamicom.org/info/earth-light-2-luna-strike', 'https://superfamicom.org/info/energy-breaker', 'https://superfamicom.org/info/fire-emblem-seisen-no-keifu', 'https://superfamicom.org/info/fishing-koushien', 'https://superfamicom.org/info/furuta-atsuya-no-simulation-pro-yakyuu-2', 'https://superfamicom.org/info/gegege-no-kitarou-youkai-donjara', 'https://superfamicom.org/info/gekisou-sentai-car-rangers', 'https://superfamicom.org/info/gokinjo-bouken-tai', 'https://superfamicom.org/info/gt-racing', 'https://superfamicom.org/info/harvest-moon', 'https://superfamicom.org/info/heiwa-pachinko-world-3', 'https://superfamicom.org/info/hissatsu-pachinko-collection-4', 'https://superfamicom.org/info/honke-sankyo-fever-3-jikki-simulation', 'https://superfamicom.org/info/hourai-gakuen-no-bouken-tenkousei-scramble', 'https://superfamicom.org/info/ippatsu-gyakuten-keiba-keirin-kyoutei', 'https://superfamicom.org/info/j-league-96-dream-stadium', 'https://superfamicom.org/info/j-league-excite-stage-96', 'https://superfamicom.org/info/jikkyou-power-pro-wrestling-96-max-voltage', 'https://superfamicom.org/info/jikkyou-powerful-pro-yakyuu-96-kaimaku-ban', 'https://superfamicom.org/info/jissen-pachi-slot-hisshouhou-yamasa-densetsu', 'https://superfamicom.org/info/jumpin-derby', 'https://superfamicom.org/info/kuusou-kagaku-sekai-gulliver-boy', 'https://superfamicom.org/info/kyoraku-sanyo-maruhon-parlor-parlor-5', 'https://superfamicom.org/info/lennus-2-fuuin-no-shito', 'https://superfamicom.org/info/magical-drop-2', 'https://superfamicom.org/info/mahoujin-guru-guru-2', 'https://superfamicom.org/info/marvel-super-heroes-war-of-the-gems', 'https://superfamicom.org/info/monstania', 'https://superfamicom.org/info/nintama-rantarou-2', 'https://superfamicom.org/info/nintama-rantarou-puzzle-ninjutsu-gakuen-puzzle-no-maki', 'https://superfamicom.org/info/nintama-rantarou-special', 'https://superfamicom.org/info/nishijin-pachinko-monogatari-2', 'https://superfamicom.org/info/numbers-paradise', 'https://superfamicom.org/info/ongaku-tsukuru-kanadeeru', 'https://superfamicom.org/info/parlor-mini-2-pachinko-jikki-simulation', 'https://superfamicom.org/info/parlor-mini-3-pachinko-jikki-simulation', 'https://superfamicom.org/info/parlor-mini-pachinko-jikki-simulation', 'https://superfamicom.org/info/pebble-beach-no-hatou-tournament-edition', 'https://superfamicom.org/info/poi-poi-ninja-world', 'https://superfamicom.org/info/rudra-no-hihou', 'https://superfamicom.org/info/sd-gundam-generation-a-ichinen-sensouki', 'https://superfamicom.org/info/sd-gundam-generation-b-gryps-senki', 'https://superfamicom.org/info/sd-gundam-generation-c-axis-senki', 'https://superfamicom.org/info/sd-gundam-generation-colony-kakutouki', 'https://superfamicom.org/info/sd-gundam-generation-d-babylonia-kenkoku-senki', 'https://superfamicom.org/info/sd-gundam-generation-e-zansukaaru-senki', 'https://superfamicom.org/info/sd-ultra-battle-seven-densetsu', 'https://superfamicom.org/info/sd-ultra-battle-ultraman-densetsu', 'https://superfamicom.org/info/sim-city-jr', 'https://superfamicom.org/info/sound-novel-tsukuru', 'https://superfamicom.org/info/spriggan-powered', 'https://superfamicom.org/info/star-ocean', 'https://superfamicom.org/info/supapoon-dx', 'https://superfamicom.org/info/super-bomberman-4', 'https://superfamicom.org/info/super-formation-soccer-96-world-club-edition', 'https://superfamicom.org/info/super-gussun-oyoyo-2', 'https://superfamicom.org/info/super-kyoutei-2', 'https://superfamicom.org/info/super-nazo-puyo-2-lulu-no-tetsuwan-hanjouki', 'https://superfamicom.org/info/super-nichibutsu-mahjong-4-kiso-kenkyu-hen', 'https://superfamicom.org/info/super-power-league-4', 'https://superfamicom.org/info/super-trump-collection-2', 'https://superfamicom.org/info/table-game-daisyugo-shougi-mahjong-hanafuda', 'https://superfamicom.org/info/thoroughbred-breeder-3', 'https://superfamicom.org/info/toy-story', 'https://superfamicom.org/info/traverse-starlight-and-prairie', 'https://superfamicom.org/info/treasure-hunter-g', 'https://superfamicom.org/info/umi-no-nushi-tsuri', 'https://superfamicom.org/info/winning-post-2-program-96', 'https://superfamicom.org/info/wizardry-gaiden-4-throb-of-the-demons-heart', 'https://superfamicom.org/info/animaniacs', 'https://superfamicom.org/info/arkanoid-doh-it-again', 'https://superfamicom.org/info/bakukyu-rennpatsu-super-b-daman', 'https://superfamicom.org/info/bomberman-b-daman', 'https://superfamicom.org/info/bushi-seiryuuden-futari-no-yuusha', 'https://superfamicom.org/info/casper', 'https://superfamicom.org/info/cu-on-pa', 'https://superfamicom.org/info/dark-law-meaning-of-death', 'https://superfamicom.org/info/derby-stallion-98', 'https://superfamicom.org/info/donald-no-maui-mallard', 'https://superfamicom.org/info/doukyuusei-2', 'https://superfamicom.org/info/dr-mario', 'https://superfamicom.org/info/dragon-knight-4', 'https://superfamicom.org/info/dragon-quest-iii-soshite-densetsu-he', 'https://superfamicom.org/info/famicom-tantei-club-part-ii-ushiro-ni-tatsu-shoujo', 'https://superfamicom.org/info/fune-tarou', 'https://superfamicom.org/info/ganpuru-strange-world-gunmans-proof', 'https://superfamicom.org/info/genjuu-ryodan', 'https://superfamicom.org/info/god-mezameyo-to-yobu-koe-ga-kikoe', 'https://superfamicom.org/info/heisei-shin-oni-ga-shima-kouhen', 'https://superfamicom.org/info/heisei-shin-oni-ga-shima-zenpen', 'https://superfamicom.org/info/heiwa-parlor-mini-8-pachinko-jikki-simulation-game', 'https://superfamicom.org/info/hoshi-no-kirby-3', 'https://superfamicom.org/info/itoi-shigesato-no-bass-tsuri-no-1', 'https://superfamicom.org/info/jikkyou-powerful-pro-yakyuu-3-97-haru', 'https://superfamicom.org/info/jikkyou-powerful-pro-yakyuu-basic-ban-98', 'https://superfamicom.org/info/jissen-pachi-slot-hisshouhou-twin', 'https://superfamicom.org/info/jissen-pachi-slot-hisshouhou-twin-vol-2', 'https://superfamicom.org/info/katou-ichi-ni-san-kudan-shougi-club', 'https://superfamicom.org/info/kirby-no-kirakira-kids', 'https://superfamicom.org/info/kyoraku-sanyo-maruhon-parlor-parlor-5-special', 'https://superfamicom.org/info/kyoraku-sanyo-toyomaru-daiichi-maruhon-parlor-parlor-2-special', 'https://superfamicom.org/info/kyoraku-sanyo-toyomaru-okumura-daiichi-maruhon-parlor-parlor-4-cr-special', 'https://superfamicom.org/info/kyoraku-sanyo-toyomaru-okumura-taiyou-parlor-parlor-3-special', 'https://superfamicom.org/info/marvelous-mouhitotsu-no-takarajima', 'https://superfamicom.org/info/milandra', 'https://superfamicom.org/info/mini-shiku-shining-scorpion-ready-and-go', 'https://superfamicom.org/info/mini-yonku-lets-and-go-power-wgp-2', 'https://superfamicom.org/info/momotarou-dentetsu-happy', 'https://superfamicom.org/info/nichibutsu-collection-1', 'https://superfamicom.org/info/nichibutsu-collection-2', 'https://superfamicom.org/info/nintama-rantarou-3', 'https://superfamicom.org/info/nishijin-pachinko-monogatari-3', 'https://superfamicom.org/info/pachi-slot-kanzen-kouryaku-universal-shindai-nyuuka-volume-1', 'https://superfamicom.org/info/parlor-mini-2-pachinko-jikki-simulation-special', 'https://superfamicom.org/info/parlor-mini-4-pachinko-jikki-simulation', 'https://superfamicom.org/info/parlor-mini-5-pachinko-jikki-simulation', 'https://superfamicom.org/info/parlor-mini-6-pachinko-jikki-simulation', 'https://superfamicom.org/info/parlor-mini-7-pachinko-jikki-simulation', 'https://superfamicom.org/info/picross-np-vol-1', 'https://superfamicom.org/info/picross-np-vol-2', 'https://superfamicom.org/info/pikiinya', 'https://superfamicom.org/info/pinocchio', 'https://superfamicom.org/info/power-lode-runner', 'https://superfamicom.org/info/power-soukoban', 'https://superfamicom.org/info/pro-mahjong-tsuwamono', 'https://superfamicom.org/info/pro-mahjong-tsuwamono-renka-ban', 'https://superfamicom.org/info/pro-yakyuu-nettou-puzzle-stadium', 'https://superfamicom.org/info/pro-yakyuu-star', 'https://superfamicom.org/info/ring-ni-kakero', 'https://superfamicom.org/info/rockman-and-forte', 'https://superfamicom.org/info/shanghai-banri-no-choujou-meisaku-shiriizu', 'https://superfamicom.org/info/solid-runner', 'https://superfamicom.org/info/street-fighter-zero-2', 'https://superfamicom.org/info/sugoroku-ginga-senki', 'https://superfamicom.org/info/super-bomberman-5', 'https://superfamicom.org/info/super-donkey-kong-3-nazo-no-krems-tou', 'https://superfamicom.org/info/super-double-yakuman-ii', 'https://superfamicom.org/info/super-famicom-wars', 'https://superfamicom.org/info/super-family-gerende', 'https://superfamicom.org/info/super-punch-out', 'https://superfamicom.org/info/super-soukoban-renkan-ban', 'https://superfamicom.org/info/sutte-hakkun', 'https://superfamicom.org/info/tamagotchi-town', 'https://superfamicom.org/info/the-game-of-life-super-jinsei-game-3', 'https://superfamicom.org/info/the-mask', 'https://superfamicom.org/info/tower-dream', 'https://superfamicom.org/info/vs-collection', 'https://superfamicom.org/info/wrecking-crew-98', 'https://superfamicom.org/info/zootto-mahjong', 'https://superfamicom.org/info/3-ninjas-kick-back', 'https://superfamicom.org/info/aaahh-real-monsters', 'https://superfamicom.org/info/acme-animation-factory', 'https://superfamicom.org/info/addams-family-values', 'https://superfamicom.org/info/aero-the-acro-bat', 'https://superfamicom.org/info/aero-the-acro-bat-2', 'https://superfamicom.org/info/air-cavalry', 'https://superfamicom.org/info/al-unser-jrs-road-to-the-top', 'https://superfamicom.org/info/american-gladiators', 'https://superfamicom.org/info/an-american-tail-fievel-goes-west', 'https://superfamicom.org/info/arcades-greatest-hits', 'https://superfamicom.org/info/arcades-greatest-hits-the-atari-collection-1', 'https://superfamicom.org/info/barbie-super-model', 'https://superfamicom.org/info/barbie-vacation-adventure', 'https://superfamicom.org/info/bass-masters-classic-pro-edition', 'https://superfamicom.org/info/batman-revenge-of-the-joker', 'https://superfamicom.org/info/battle-cars', 'https://superfamicom.org/info/battletoads-double-dragon-the-ultimate-team', 'https://superfamicom.org/info/beavis-and-butt-head', 'https://superfamicom.org/info/bebes-kids', 'https://superfamicom.org/info/beethovens-2nd', 'https://superfamicom.org/info/big-sky-trooper', 'https://superfamicom.org/info/biker-mice-from-mars', 'https://superfamicom.org/info/bill-laimbeers-combat-basketball', 'https://superfamicom.org/info/bill-walsh-college-football', 'https://superfamicom.org/info/bobbys-world', 'https://superfamicom.org/info/boogerman-a-pick-and-flick-adventure', 'https://superfamicom.org/info/bram-stokers-dracula', 'https://superfamicom.org/info/breakthru', 'https://superfamicom.org/info/brett-hull-hockey', 'https://superfamicom.org/info/brett-hull-hockey-95', 'https://superfamicom.org/info/bronkie-health-hero', 'https://superfamicom.org/info/brunswick-world-tournament-of-champions', 'https://superfamicom.org/info/bubsy-2', 'https://superfamicom.org/info/cal-ripken-jr-baseball', 'https://superfamicom.org/info/cannondale-cup', 'https://superfamicom.org/info/capcoms-mvp-football', 'https://superfamicom.org/info/chrono-trigger-sample', 'https://superfamicom.org/info/columns', 'https://superfamicom.org/info/famicom-bunko-hajimari-no-mori', 'https://superfamicom.org/info/far-east-of-eden-tengai-makyou-zero-shounen-jump-no-shou', 'https://superfamicom.org/info/fire-emblem-thracia-776', 'https://superfamicom.org/info/fire-emblem-thracia-776-rom-version', 'https://superfamicom.org/info/from-tv-animation-slam-dunk-shikyou-gekitotsu-limited', 'https://superfamicom.org/info/get-in-the-hole', 'https://superfamicom.org/info/metal-slader-glory-directors-cut-special', 'https://superfamicom.org/info/motoko-chan-no-wonder-kitchen', 'https://superfamicom.org/info/oekaki-logic', 'https://superfamicom.org/info/oekaki-logic-2', 'https://superfamicom.org/info/picross-np-vol-3', 'https://superfamicom.org/info/picross-np-vol-4', 'https://superfamicom.org/info/picross-np-vol-5', 'https://superfamicom.org/info/picross-np-vol-6', 'https://superfamicom.org/info/picross-np-vol-7', 'https://superfamicom.org/info/picross-np-vol-8', 'https://superfamicom.org/info/riverse-kids', 'https://superfamicom.org/info/rockman-x3', 'https://superfamicom.org/info/satellaview-8m-memory-pack', 'https://superfamicom.org/info/satellaview-bs-x', 'https://superfamicom.org/info/sm-choukyoushi-hitomi-volume-2', 'https://superfamicom.org/info/star-fox-2', 'https://superfamicom.org/info/super-bomberman-2-caravan-edition', 'https://superfamicom.org/info/super-bomberman-5-caravan-edition', 'https://superfamicom.org/info/super-game-boy', 'https://superfamicom.org/info/super-mario-all-stars-korean-version', 'https://superfamicom.org/info/super-momotarou-dentetsu-dx-jr-nishi-nihon-presents', 'https://superfamicom.org/info/the-addams-family-pugsleys-scavenger-hunt', 'https://superfamicom.org/info/the-adventures-of-batman-robin', 'https://superfamicom.org/info/the-adventures-of-dr-franken', 'https://superfamicom.org/info/the-adventures-of-rocky-and-bullwinkle-and-friends', 'https://superfamicom.org/info/the-brainies', 'https://superfamicom.org/info/ufo-kamen-yakisoban-kettler-no-kuroi-inbou-keihin-ban', 'https://superfamicom.org/info/undake-30-same-game-daisakusen-mario-version', 'https://superfamicom.org/info/universal-soldier', 'https://superfamicom.org/info/wizardry-i-ii-iii-story-of-llylgamyn', 'https://superfamicom.org/info/x-t-parame-vol-2', 'https://superfamicom.org/info/x-t-parame-vol-4', 'https://superfamicom.org/info/x-terminator-2', 'https://superfamicom.org/info/x-terminator-2-sauke', 'https://superfamicom.org/info/zaitaku-touhyou-system-spat4-wide-minami-kantou-keibajou-denwa-touhyou-center', 'https://superfamicom.org/info/captain-america-and-the-avengers', 'https://superfamicom.org/info/captain-novolin', 'https://superfamicom.org/info/championship-soccer-94', 'https://superfamicom.org/info/chavez', 'https://superfamicom.org/info/chavez-ii', 'https://superfamicom.org/info/chester-cheetah-too-cool-to-fool', 'https://superfamicom.org/info/chester-cheetah-wild-wild-quest', 'https://superfamicom.org/info/chuck-rock', 'https://superfamicom.org/info/clay-fighter', 'https://superfamicom.org/info/clay-fighter-2-judgment-clay', 'https://superfamicom.org/info/clay-fighter-tournament-edition', 'https://superfamicom.org/info/claymates', 'https://superfamicom.org/info/cliffhanger', 'https://superfamicom.org/info/clue', 'https://superfamicom.org/info/college-football-usa-97-the-road-to-new-orleans', 'https://superfamicom.org/info/college-slam-basketball', 'https://superfamicom.org/info/cool-world', 'https://superfamicom.org/info/cutthroat-island', 'https://superfamicom.org/info/daffy-duck-the-marvin-missions', 'https://superfamicom.org/info/demolition-man', 'https://superfamicom.org/info/dennis-the-menace', 'https://superfamicom.org/info/dirt-trax-fx', 'https://superfamicom.org/info/donkey-kong-country-competition-cartridge', 'https://superfamicom.org/info/double-dragon-v-the-shadow-falls', 'https://superfamicom.org/info/dragon-the-bruce-lee-story', 'https://superfamicom.org/info/dream-tv', 'https://superfamicom.org/info/earthworm-jim-2', 'https://superfamicom.org/info/eek-the-cat', 'https://superfamicom.org/info/emmitt-smith-football', 'https://superfamicom.org/info/espn-baseball-tonight', 'https://superfamicom.org/info/espn-national-hockey-night', 'https://superfamicom.org/info/espn-speedworld', 'https://superfamicom.org/info/espn-sunday-night-nfl', 'https://superfamicom.org/info/faceball-2000', 'https://superfamicom.org/info/family-dog', 'https://superfamicom.org/info/family-feud', 'https://superfamicom.org/info/fifa-97-gold-edition', 'https://superfamicom.org/info/fifa-soccer-96', 'https://superfamicom.org/info/frantic-flea', 'https://superfamicom.org/info/frogger', 'https://superfamicom.org/info/fun-n-games', 'https://superfamicom.org/info/george-foremans-ko-boxing', 'https://superfamicom.org/info/gods', 'https://superfamicom.org/info/hardball-iii', 'https://superfamicom.org/info/head-on-soccer', 'https://superfamicom.org/info/hit-the-ice', 'https://superfamicom.org/info/home-alone-2-lost-in-new-york', 'https://superfamicom.org/info/home-improvement', 'https://superfamicom.org/info/incantation', 'https://superfamicom.org/info/inspector-gadget', 'https://superfamicom.org/info/izzys-quest-for-the-olympic-rings', 'https://superfamicom.org/info/jack-nicklaus-golf', 'https://superfamicom.org/info/james-bond-jr', 'https://superfamicom.org/info/jammit', 'https://superfamicom.org/info/jeopardy', 'https://superfamicom.org/info/jeopardy-deluxe-edition', 'https://superfamicom.org/info/jeopardy-sports-edition', 'https://superfamicom.org/info/jim-lees-wildcats', 'https://superfamicom.org/info/jim-power-the-lost-dimension-in-3d', 'https://superfamicom.org/info/jrr-tolkiens-the-lord-of-the-rings-volume-1', 'https://superfamicom.org/info/jurassic-park-part-2-the-chaos-continues', 'https://superfamicom.org/info/kawasaki-caribbean-challenge', 'https://superfamicom.org/info/kawasaki-superbike-challenge', 'https://superfamicom.org/info/ken-griffey-jr-presents-major-league-baseball', 'https://superfamicom.org/info/ken-griffey-jrs-winning-run', 'https://superfamicom.org/info/killer-instinct', 'https://superfamicom.org/info/king-arthur-the-knights-of-justice', 'https://superfamicom.org/info/kirbys-avalanche', 'https://superfamicom.org/info/lamborghini-american-challenge', 'https://superfamicom.org/info/last-action-hero', 'https://superfamicom.org/info/legend', 'https://superfamicom.org/info/lethal-weapon', 'https://superfamicom.org/info/looney-tunes-b-ball', 'https://superfamicom.org/info/the-death-and-return-of-superman', 'https://superfamicom.org/info/the-flintstones', 'https://superfamicom.org/info/the-great-waldo-search', 'https://superfamicom.org/info/the-hurricanes', 'https://superfamicom.org/info/the-incredible-hulk', 'https://superfamicom.org/info/the-itchy-scratchy-game', 'https://superfamicom.org/info/the-jetsons-invasion-of-the-planet-pirates', 'https://superfamicom.org/info/macs-basic-rifle-simulator', 'https://superfamicom.org/info/madden-nfl-95', 'https://superfamicom.org/info/madden-nfl-96', 'https://superfamicom.org/info/madden-nfl-97', 'https://superfamicom.org/info/madden-nfl-98', 'https://superfamicom.org/info/magic-boy', 'https://superfamicom.org/info/mario-is-missing', 'https://superfamicom.org/info/marios-early-years-fun-with-letters', 'https://superfamicom.org/info/marios-early-years-fun-with-numbers', 'https://superfamicom.org/info/marios-early-years-preschool-fun', 'https://superfamicom.org/info/marios-time-machine', 'https://superfamicom.org/info/mary-shelleys-frankenstein', 'https://superfamicom.org/info/math-blaster-episode-1', 'https://superfamicom.org/info/metal-combat-falcons-revenge', 'https://superfamicom.org/info/metal-morph', 'https://superfamicom.org/info/metal-warriors', 'https://superfamicom.org/info/michael-jordan-chaos-in-the-windy-city', 'https://superfamicom.org/info/mickeys-playtown-adventure-a-day-of-discovery', 'https://superfamicom.org/info/mickeys-ultimate-challenge', 'https://superfamicom.org/info/micro-machines', 'https://superfamicom.org/info/might-and-magic-iii-isles-of-terra', 'https://superfamicom.org/info/mighty-max', 'https://superfamicom.org/info/mighty-morphin-power-rangers-the-fighting-edition', 'https://superfamicom.org/info/mighty-morphin-power-rangers-the-movie', 'https://superfamicom.org/info/mohawk-headphone-jack', 'https://superfamicom.org/info/mortal-kombat-3', 'https://superfamicom.org/info/mountain-bike-rally', 'https://superfamicom.org/info/ms-pac-man', 'https://superfamicom.org/info/mutant-chronicles-doom-troopers', 'https://superfamicom.org/info/natsume-championship-wrestling', 'https://superfamicom.org/info/nba-hang-time', 'https://superfamicom.org/info/nba-live-96', 'https://superfamicom.org/info/nba-live-97', 'https://superfamicom.org/info/nba-live-98', 'https://superfamicom.org/info/ncaa-final-four-basketball', 'https://superfamicom.org/info/network-q-rally', 'https://superfamicom.org/info/nhl-95', 'https://superfamicom.org/info/nhl-96', 'https://superfamicom.org/info/nhl-97', 'https://superfamicom.org/info/nhl-98', 'https://superfamicom.org/info/nhl-stanley-cup', 'https://superfamicom.org/info/nhlpa-hockey-93', 'https://superfamicom.org/info/nickelodeon-guts', 'https://superfamicom.org/info/no-escape', 'https://superfamicom.org/info/obitus', 'https://superfamicom.org/info/olympic-summer-games-96', 'https://superfamicom.org/info/on-the-ball', 'https://superfamicom.org/info/operation-europe-path-to-victory-1939-45', 'https://superfamicom.org/info/operation-thunderbolt', 'https://superfamicom.org/info/oscar', 'https://superfamicom.org/info/out-to-lunch', 'https://superfamicom.org/info/outlander', 'https://superfamicom.org/info/pac-attack', 'https://superfamicom.org/info/packy-marlon', 'https://superfamicom.org/info/paperboy-2', 'https://superfamicom.org/info/pga-european-tour', 'https://superfamicom.org/info/pga-tour-96', 'https://superfamicom.org/info/phantom-2040', 'https://superfamicom.org/info/pinball-fantasies', 'https://superfamicom.org/info/pit-fighter', 'https://superfamicom.org/info/porky-pigs-haunted-holiday', 'https://superfamicom.org/info/power-piggs-of-the-dark-age', 'https://superfamicom.org/info/power-rangers-zeo-battle-racers', 'https://superfamicom.org/info/primal-rage', 'https://superfamicom.org/info/prince-of-persia-2-the-shadow-the-flame', 'https://superfamicom.org/info/pro-quarterback', 'https://superfamicom.org/info/push-over', 'https://superfamicom.org/info/race-drivin', 'https://superfamicom.org/info/radical-rex', 'https://superfamicom.org/info/rampart', 'https://superfamicom.org/info/rap-jam-volume-one', 'https://superfamicom.org/info/realm', 'https://superfamicom.org/info/relief-pitcher', 'https://superfamicom.org/info/the-lost-vikings-2', 'https://superfamicom.org/info/the-miracle-piano-teaching-system', 'https://superfamicom.org/info/the-pagemaster', 'https://superfamicom.org/info/the-pirates-of-dark-water', 'https://superfamicom.org/info/the-ren-stimpy-show-buckeroos', 'https://superfamicom.org/info/the-ren-stimpy-show-fire-dogs', 'https://superfamicom.org/info/the-ren-stimpy-show-time-warp', 'https://superfamicom.org/info/rex-ronan-experimental-surgeon', 'https://superfamicom.org/info/rhi-roller-hockey-95', 'https://superfamicom.org/info/road-riot-4wd', 'https://superfamicom.org/info/robocop-3', 'https://superfamicom.org/info/robocop-versus-the-terminator', 'https://superfamicom.org/info/rockos-modern-life-spunkys-dangerous-day', 'https://superfamicom.org/info/rpm-racing', 'https://superfamicom.org/info/run-saber', 'https://superfamicom.org/info/scooby-doo', 'https://superfamicom.org/info/seaquest-dsv', 'https://superfamicom.org/info/secret-of-evermore', 'https://superfamicom.org/info/shaq-fu', 'https://superfamicom.org/info/sink-or-swim', 'https://superfamicom.org/info/skuljagger-revolt-of-the-westicans', 'https://superfamicom.org/info/snes-test-program', 'https://superfamicom.org/info/snow-white-in-happily-ever-after', 'https://superfamicom.org/info/soldiers-of-fortune', 'https://superfamicom.org/info/spawn', 'https://superfamicom.org/info/spectre', 'https://superfamicom.org/info/speed-racer-in-my-most-dangerous-adventures', 'https://superfamicom.org/info/speedy-gonzales-los-gatos-bandidos', 'https://superfamicom.org/info/spell-craft', 'https://superfamicom.org/info/spider-man', 'https://superfamicom.org/info/spider-man-and-the-x-men-in-arcades-revenge', 'https://superfamicom.org/info/spider-man-venom-maximum-carnage', 'https://superfamicom.org/info/spider-man-venom-separation-anxiety', 'https://superfamicom.org/info/sports-illustrated-championship-football-baseball', 'https://superfamicom.org/info/star-fox-super-weekend-competition', 'https://superfamicom.org/info/star-trek-deep-space-nine-crossroads-of-time', 'https://superfamicom.org/info/star-trek-starfleet-academy-starship-bridge-simulator', 'https://superfamicom.org/info/steel-talons', 'https://superfamicom.org/info/sterling-sharpe-end-2-end', 'https://superfamicom.org/info/street-combat', 'https://superfamicom.org/info/street-hockey-95', 'https://superfamicom.org/info/sunset-riders', 'https://superfamicom.org/info/super-alfred-chicken', 'https://superfamicom.org/info/super-battleship', 'https://superfamicom.org/info/super-conflict-the-mideast', 'https://superfamicom.org/info/super-mario-all-stars-super-mario-world', 'https://superfamicom.org/info/super-noahs-ark-3d', 'https://superfamicom.org/info/super-play-action-football', 'https://superfamicom.org/info/super-rbi-baseball', 'https://superfamicom.org/info/super-shadow-of-the-beast', 'https://superfamicom.org/info/super-strike-eagle', 'https://superfamicom.org/info/super-turrican-2', 'https://superfamicom.org/info/super-widget', 'https://superfamicom.org/info/swat-kats-the-radical-squadron', 'https://superfamicom.org/info/taz-mania', 'https://superfamicom.org/info/terminator-2-judgment-day', 'https://superfamicom.org/info/tetris-attack', 'https://superfamicom.org/info/tetris-dr-mario', 'https://superfamicom.org/info/the-ren-stimpy-show-veediots', 'https://superfamicom.org/info/the-shadow', 'https://superfamicom.org/info/the-sporting-news-power-baseball', 'https://superfamicom.org/info/the-super-aquatic-games', 'https://superfamicom.org/info/the-tick', 'https://superfamicom.org/info/the-wizard-of-oz', 'https://superfamicom.org/info/thomas-the-tank-engine-and-friends', 'https://superfamicom.org/info/timeslip', 'https://superfamicom.org/info/timon-pumbaas-jungle-games', 'https://superfamicom.org/info/tin-star', 'https://superfamicom.org/info/total-carnage', 'https://superfamicom.org/info/toys', 'https://superfamicom.org/info/troddlers', 'https://superfamicom.org/info/troy-aikman-nfl-football', 'https://superfamicom.org/info/uniracers', 'https://superfamicom.org/info/urban-strike', 'https://superfamicom.org/info/warios-woods', 'https://superfamicom.org/info/warpspeed', 'https://superfamicom.org/info/wayne-gretzky-and-the-nhlpa-all-stars', 'https://superfamicom.org/info/waynes-world', 'https://superfamicom.org/info/wcw-super-brawl-wrestling', 'https://superfamicom.org/info/weapon-lord', 'https://superfamicom.org/info/where-in-time-is-carmen-sandiego', 'https://superfamicom.org/info/whizz', 'https://superfamicom.org/info/wolf-child', 'https://superfamicom.org/info/wordtris', 'https://superfamicom.org/info/wwf-raw', 'https://superfamicom.org/info/zero-the-kamikaze-squirrel', 'https://superfamicom.org/info/zombies-ate-my-neighbors', 'https://superfamicom.org/info/aging-cassette', 'https://superfamicom.org/info/all-american-championship-football', 'https://superfamicom.org/info/apocalypse-2', 'https://superfamicom.org/info/asterix', 'https://superfamicom.org/info/asterix-obelix', 'https://superfamicom.org/info/batman', 'https://superfamicom.org/info/cannon-fodder', 'https://superfamicom.org/info/congo-the-movie-the-secret-of-zinj', 'https://superfamicom.org/info/controller-test-cassette', 'https://superfamicom.org/info/corn-buster', 'https://superfamicom.org/info/daze-before-christmas', 'https://superfamicom.org/info/dino-dinis-soccer', 'https://superfamicom.org/info/dirt-racer', 'https://superfamicom.org/info/eurit', 'https://superfamicom.org/info/exertainment-mountain-bike-rally-speed-racer', 'https://superfamicom.org/info/extreme-shogi', 'https://superfamicom.org/info/f1-world-championship-edition', 'https://superfamicom.org/info/fifa-98-road-to-world-cup', 'https://superfamicom.org/info/fireteam-rogue', 'https://superfamicom.org/info/game-genie', 'https://superfamicom.org/info/game-saver', 'https://superfamicom.org/info/james-pond-3-operation-starfish', 'https://superfamicom.org/info/jelly-boy', 'https://superfamicom.org/info/jelly-boy-2', 'https://superfamicom.org/info/jra-pat', 'https://superfamicom.org/info/jra-pat-wide-taiyouban', 'https://superfamicom.org/info/kevin-keegans-player-manager', 'https://superfamicom.org/info/kick-off-3-european-challenge', 'https://superfamicom.org/info/kunio-kun-no-dodge-ball-dayo-zenin-shuugou', 'https://superfamicom.org/info/lucky-luke', 'https://superfamicom.org/info/manchester-united-championship-soccer', 'https://superfamicom.org/info/markos-magic-football', 'https://superfamicom.org/info/mick-mack-as-the-global-gladiators', 'https://superfamicom.org/info/micro-machines-2-turbo-tournament', 'https://superfamicom.org/info/mr-bloopy-saves-the-world', 'https://superfamicom.org/info/mr-tuff', 'https://superfamicom.org/info/muhammad-ali-heavyweight-boxing', 'https://superfamicom.org/info/ncaa-football', 'https://superfamicom.org/info/nightmare-busters', 'https://superfamicom.org/info/nintendo-power-menu-program', 'https://superfamicom.org/info/pachinko-tetsujin-nanaban-shoubu', 'https://superfamicom.org/info/picachu', 'https://superfamicom.org/info/pokemon-stadium', 'https://superfamicom.org/info/power-drive', 'https://superfamicom.org/info/power-slide', 'https://superfamicom.org/info/prime', 'https://superfamicom.org/info/pro-action-replay', 'https://superfamicom.org/info/pro-action-replay-mk2', 'https://superfamicom.org/info/pro-action-replay-mk3', 'https://superfamicom.org/info/putty-squad', 'https://superfamicom.org/info/rap-basketball', 'https://superfamicom.org/info/sm-choukyoushi-hitomi', 'https://superfamicom.org/info/sm-choukyoushi-hitomi-bangai-hen', 'https://superfamicom.org/info/sm-choukyoushi-hitomi-bangai-hen-2-maki-no-love-love-panic', 'https://superfamicom.org/info/sm-choukyoushi-hitomi-vol-3', 'https://superfamicom.org/info/sm-choukyoushi-hitomi-volume-2-remix', 'https://superfamicom.org/info/sonic-the-hedgehog-4', 'https://superfamicom.org/info/soul-blade', 'https://superfamicom.org/info/spirou', 'https://superfamicom.org/info/steven-seagal-is-the-final-option', 'https://superfamicom.org/info/street-fighter-ex', 'https://superfamicom.org/info/sufami-turbo', 'https://superfamicom.org/info/super-big-2', 'https://superfamicom.org/info/super-dany', 'https://superfamicom.org/info/taiwan-16-mahjong-2-horoscope-girls-edition', 'https://superfamicom.org/info/the-adventures-of-tintin-prisoners-of-the-sun', 'https://superfamicom.org/info/the-duel-test-drive-2', 'https://superfamicom.org/info/the-humans', 'https://superfamicom.org/info/the-smurfs', 'https://superfamicom.org/info/the-smurfs-travel-the-world', 'https://superfamicom.org/info/the-terminator', 'https://superfamicom.org/info/time-trax', 'https://superfamicom.org/info/ultimate-mortal-kombat-3', 'https://superfamicom.org/info/were-back-a-dinosaurs-story', 'https://superfamicom.org/info/where-in-the-world-is-carmen-sandiego', 'https://superfamicom.org/info/wing-commander-the-secret-missions', 'https://superfamicom.org/info/winter-olympic-games-lillehammer-94', 'https://superfamicom.org/info/x-t-parame-vol-5', 'https://superfamicom.org/info/young-merlin', 'https://superfamicom.org/info/zoop', 'https://superfamicom.org/info/magical-drop-2-joqr-edition', 'https://superfamicom.org/info/super-dropzone', 'https://superfamicom.org/info/super-full-metal', 'https://superfamicom.org/info/super-game-boy-2', 'https://superfamicom.org/info/super-international-cricket', 'https://superfamicom.org/info/super-morph', 'https://superfamicom.org/info/sylvester-and-tweety', 'https://superfamicom.org/info/tekken-2', 'https://superfamicom.org/info/the-untouchables', 'https://superfamicom.org/info/tinhead', 'https://superfamicom.org/info/tintin-in-tibet', 'https://superfamicom.org/info/tri-star', 'https://superfamicom.org/info/turbo-toons', 'https://superfamicom.org/info/war-2410', 'https://superfamicom.org/info/war-3010-the-revolution', 'https://superfamicom.org/info/waterworld', 'https://superfamicom.org/info/wheel-of-fortune', 'https://superfamicom.org/info/wheel-of-fortune-deluxe-edition', 'https://superfamicom.org/info/wile-e-coyotes-revenge', 'https://superfamicom.org/info/winter-gold', 'https://superfamicom.org/info/world-class-service-super-nintendo-tester', 'https://superfamicom.org/info/world-masters-golf', 'https://superfamicom.org/info/worms', 'https://superfamicom.org/info/x', 'https://superfamicom.org/info/x-men-vs-street-fighter', 'https://superfamicom.org/info/xband', 'https://superfamicom.org/info/yoshi-no-cookie-kuruppon-oven-de-cookie', 'https://superfamicom.org/info/zaitaku-touhyou-shisutemu-urawa-funabashi-ooi-kawasaki-spat-4']\n"
     ]
    }
   ],
   "source": [
    "linkGames = []\n",
    "for linkPage in linkPages:\n",
    "    html = downloadPage(linkPage)\n",
    "    soup = BeautifulSoup(html, \"html5lib\")\n",
    "    incomingLinkGames = getLinkGames(soup,base_url)\n",
    "    for link in incomingLinkGames :\n",
    "        linkGames.append(link)\n",
    "print(linkGames)  \n",
    "    "
   ]
  },
  {
   "cell_type": "markdown",
   "metadata": {},
   "source": [
    "### Procés de descarrega del contingut de les pàgina del videojoc:"
   ]
  },
  {
   "cell_type": "code",
   "execution_count": 49,
   "metadata": {
    "scrolled": false
   },
   "outputs": [
    {
     "name": "stdout",
     "output_type": "stream",
     "text": [
      "Temps d'execució de la descarrega dels jocs 4992.908461093903 segons\n",
      "Total jocs:  1868\n"
     ]
    }
   ],
   "source": [
    "from time import time\n",
    "start = time()\n",
    "games = []\n",
    "\n",
    "listQuotes = []\n",
    "listImportantAttributes = []\n",
    "listDescriptionAndReferences = []\n",
    "listScreenShots = []\n",
    "listYoutube = []\n",
    "listRomsInfo = []\n",
    "listStaffInfo = []\n",
    "\n",
    "countGames = 0\n",
    "for linkGame in linkGames:\n",
    "    soupGame = getHtmlGame(linkGame)\n",
    "    \n",
    "    quotes = getQuoteStrongs(soupGame)\n",
    "    importantAttributes = getImportantAttributes(soupGame)\n",
    "    youtube = getYoutubeVideos(soupGame)\n",
    "    descriptionAndReferences = getDescriptionAndReferences(soupGame)\n",
    "    screenShots = getGameScreenShots(soupGame)\n",
    "    romsInfo = getRomsInfo(soupGame)\n",
    "    staffInfo = getStaffInfo(soupGame)\n",
    "\n",
    "    joinInfo = {**importantAttributes , **quotes , **romsInfo, **descriptionAndReferences, ** staffInfo, **youtube, **screenShots }\n",
    "#     joinInfo = importantAttributes + descriptionAndReferences + quotes + youtube + screenShots+ romsInfo + staffInfo\n",
    "    \n",
    "    games.append(joinInfo)\n",
    "    listQuotes.append(quotes)\n",
    "    listImportantAttributes.append(importantAttributes)\n",
    "    listDescriptionAndReferences.append(descriptionAndReferences)\n",
    "    listScreenShots.append(screenShots)\n",
    "    listYoutube.append(youtube)\n",
    "    listRomsInfo.append(romsInfo)\n",
    "    listStaffInfo.append(staffInfo)\n",
    "    \n",
    "    countGames += 1\n",
    "\n",
    "end = time()\n",
    "diff_time1 = end - start\n",
    "print(\"Temps d'execució de la descarrega dels jocs {} segons\".format(diff_time1))\n",
    "print (\"Total jocs: \",countGames)\n",
    "\n",
    "    \n",
    "    "
   ]
  },
  {
   "cell_type": "markdown",
   "metadata": {},
   "source": [
    "### Creació d'un dataframe"
   ]
  },
  {
   "cell_type": "code",
   "execution_count": 50,
   "metadata": {},
   "outputs": [],
   "source": [
    "df = pd.DataFrame()\n",
    "for game in games:\n",
    "    df = df.append(game, ignore_index=True)"
   ]
  },
  {
   "cell_type": "markdown",
   "metadata": {},
   "source": [
    "### Preparació per la sortida cap a .csv"
   ]
  },
  {
   "cell_type": "code",
   "execution_count": 51,
   "metadata": {},
   "outputs": [],
   "source": [
    "df.head()\n",
    "\n",
    "df.to_csv('superfamicon.csv',sep=\";\", encoding=\"utf-8\",index=False)"
   ]
  },
  {
   "cell_type": "markdown",
   "metadata": {},
   "source": [
    "### Verificació de la informació"
   ]
  },
  {
   "cell_type": "code",
   "execution_count": 52,
   "metadata": {},
   "outputs": [],
   "source": [
    "dfImportantAttributes = pd.DataFrame()\n",
    "for obj in listImportantAttributes:\n",
    "    dfImportantAttributes = dfImportantAttributes.append(obj, ignore_index=True)\n",
    "    \n",
    "\n",
    "dfImportantAttributes.to_csv('dfImportantAttributes.csv',sep=\";\", encoding=\"utf-8\",index=False)"
   ]
  },
  {
   "cell_type": "code",
   "execution_count": 53,
   "metadata": {},
   "outputs": [],
   "source": [
    "dfDescriptionAndReferences = pd.DataFrame()\n",
    "for obj in listDescriptionAndReferences:\n",
    "    dfDescriptionAndReferences = dfDescriptionAndReferences.append(obj, ignore_index=True)\n",
    "\n",
    "dfDescriptionAndReferences.to_csv('dfDescriptionAndReferences.csv',sep=\";\", encoding=\"utf-8\",index=False)"
   ]
  },
  {
   "cell_type": "code",
   "execution_count": 54,
   "metadata": {},
   "outputs": [],
   "source": [
    "dfRomsInfo = pd.DataFrame()\n",
    "for obj in listRomsInfo:\n",
    "    dfRomsInfo = dfRomsInfo.append(obj, ignore_index=True)\n",
    "\n",
    "dfRomsInfo.to_csv('dfRomsInfo.csv',sep=\";\", encoding=\"utf-8\",index=False)"
   ]
  },
  {
   "cell_type": "code",
   "execution_count": 55,
   "metadata": {
    "scrolled": false
   },
   "outputs": [],
   "source": [
    "dfStaffInfo = pd.DataFrame()\n",
    "for obj in listStaffInfo:\n",
    "    dfStaffInfo = dfStaffInfo.append(obj, ignore_index=True)\n",
    "\n",
    "dfStaffInfo.to_csv('dfStaffInfo.csv',sep=\";\", encoding=\"utf-8\",index=False)"
   ]
  },
  {
   "cell_type": "code",
   "execution_count": 56,
   "metadata": {},
   "outputs": [],
   "source": [
    "dfQuotes = pd.DataFrame()\n",
    "for obj in listQuotes:\n",
    "    dfQuotes = dfQuotes.append(obj, ignore_index=True)\n",
    "\n",
    "dfQuotes.to_csv('dfQuotes.csv',sep=\";\", encoding=\"utf-8\",index=False)"
   ]
  },
  {
   "cell_type": "code",
   "execution_count": 57,
   "metadata": {},
   "outputs": [],
   "source": [
    "dfScreenShots = pd.DataFrame()\n",
    "for obj in listScreenShots:\n",
    "    dfScreenShots = dfScreenShots.append(obj, ignore_index=True)\n",
    "\n",
    "dfScreenShots.to_csv('dfScreenShots.csv',sep=\";\", encoding=\"utf-8\",index=False)"
   ]
  },
  {
   "cell_type": "code",
   "execution_count": 58,
   "metadata": {},
   "outputs": [],
   "source": [
    "dfYoutube = pd.DataFrame()\n",
    "for obj in listYoutube:\n",
    "    dfYoutube = dfYoutube.append(obj, ignore_index=True)\n",
    "\n",
    "dfYoutube.to_csv('dfYoutube.csv',sep=\";\", encoding=\"utf-8\",index=False)"
   ]
  },
  {
   "cell_type": "code",
   "execution_count": null,
   "metadata": {},
   "outputs": [],
   "source": []
  },
  {
   "cell_type": "code",
   "execution_count": null,
   "metadata": {},
   "outputs": [],
   "source": []
  }
 ],
 "metadata": {
  "kernelspec": {
   "display_name": "Python 3",
   "language": "python",
   "name": "python3"
  },
  "language_info": {
   "codemirror_mode": {
    "name": "ipython",
    "version": 3
   },
   "file_extension": ".py",
   "mimetype": "text/x-python",
   "name": "python",
   "nbconvert_exporter": "python",
   "pygments_lexer": "ipython3",
   "version": "3.8.2"
  }
 },
 "nbformat": 4,
 "nbformat_minor": 2
}
